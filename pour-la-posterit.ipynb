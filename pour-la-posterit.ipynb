{
 "cells": [
  {
   "cell_type": "markdown",
   "metadata": {},
   "source": [
    "# projet pour la posterité"
   ]
  },
  {
   "cell_type": "markdown",
   "metadata": {},
   "source": [
    "#### ce projet a pour but d'envoyer un mail au personne participant au projet \" pour la posterité\" ou aussi appelé \"Qbit\". le but du projet est d'envoyé un mail a chaque personne participantes, et de leur dire si ils sont selectionner ou non. ensuite le programme ficher le nom de la personne selectionnée et envera la clé de chiffrement a 3 personne au hassard. dans le but d'avoir le nom de la personne si jamais elle venait a ne pas remplire son devoir"
   ]
  },
  {
   "cell_type": "markdown",
   "metadata": {},
   "source": [
    "## architecture du projet :"
   ]
  },
  {
   "cell_type": "markdown",
   "metadata": {},
   "source": [
    "###\n",
    "- envoie de mail\n",
    "- recuperation des nom et tirage au sort\n",
    "- chffremment d'un fichier\n",
    "- tout"
   ]
  },
  {
   "cell_type": "markdown",
   "metadata": {},
   "source": [
    "### email"
   ]
  },
  {
   "cell_type": "markdown",
   "metadata": {},
   "source": [
    "truc gmail\n"
   ]
  },
  {
   "cell_type": "markdown",
   "metadata": {},
   "source": []
  },
  {
   "cell_type": "markdown",
   "metadata": {},
   "source": []
  },
  {
   "cell_type": "code",
   "execution_count": null,
   "metadata": {
    "vscode": {
     "languageId": "ruby"
    }
   },
   "outputs": [],
   "source": []
  },
  {
   "cell_type": "code",
   "execution_count": null,
   "metadata": {
    "vscode": {
     "languageId": "ruby"
    }
   },
   "outputs": [],
   "source": []
  },
  {
   "cell_type": "code",
   "execution_count": 12,
   "metadata": {},
   "outputs": [],
   "source": [
    "destinataire = \"link12541254@gmail.com\"\n",
    "sujet = \"Test\"\n",
    "message = \"Ceci est un test 2\"\n",
    "\n",
    "def envoie_email(destinataire,sujet, message):\n",
    "    expediteur = \"qbit1254@gmail.com\"\n",
    "    mot_de_passe = \"ychh qadg dehb xuxu\" \n",
    "    em = EmailMessage()\n",
    "    em['From'] = expediteur\n",
    "    em['To'] = destinataire\n",
    "    em['Subject'] = sujet\n",
    "    em.set_content(message)\n",
    "\n",
    "    context = ssl.create_default_context()\n",
    "    with smtplib.SMTP_SSL(\"smtp.gmail.com\", 465, context=context) as smtp:\n",
    "        smtp.login(expediteur, mot_de_passe)\n",
    "        smtp.sendmail(expediteur, destinataire, em.as_string()) \n",
    "    \n",
    "    "
   ]
  },
  {
   "cell_type": "code",
   "execution_count": 16,
   "metadata": {},
   "outputs": [],
   "source": [
    "envoie_email(\"tudoracheiris2828@yahoo.com\",sujet, message)"
   ]
  },
  {
   "cell_type": "markdown",
   "metadata": {},
   "source": [
    "# cryptage"
   ]
  },
  {
   "cell_type": "markdown",
   "metadata": {},
   "source": [
    "## clé : creation de la clé"
   ]
  },
  {
   "cell_type": "code",
   "execution_count": 23,
   "metadata": {},
   "outputs": [
    {
     "name": "stdout",
     "output_type": "stream",
     "text": [
      "Clé générée et sauvegardée dans ma_cle.key\n"
     ]
    }
   ],
   "source": [
    "from cryptography.fernet import Fernet\n",
    "\n",
    "def generate_key_and_save(filename_key: str):\n",
    "    \"\"\"\n",
    "    Génère une clé Fernet et la sauvegarde dans un fichier binaire.\n",
    "    \"\"\"\n",
    "    key = Fernet.generate_key()\n",
    "    with open(filename_key, 'wb') as key_file:\n",
    "        key_file.write(key)\n",
    "    print(f\"Clé générée et sauvegardée dans {filename_key}\")\n",
    "\n",
    "generate_key_and_save(\"ma_cle.key\")\n"
   ]
  },
  {
   "cell_type": "markdown",
   "metadata": {},
   "source": [
    "## cryptage"
   ]
  },
  {
   "cell_type": "markdown",
   "metadata": {},
   "source": [
    "#### exemple"
   ]
  },
  {
   "cell_type": "code",
   "execution_count": null,
   "metadata": {},
   "outputs": [],
   "source": [
    "from cryptography.fernet import Fernet\n",
    "\n",
    "key = Fernet.generate_key()\n",
    "print(key)\n",
    "\n",
    "f = Fernet(key)\n",
    "\n",
    "token = f.encrypt(b\"my deep dark secret\")\n",
    "\n",
    "token\n",
    "b'...'\n",
    "\n",
    "f.decrypt(token)\n",
    "b'my deep dark secret'"
   ]
  },
  {
   "cell_type": "markdown",
   "metadata": {},
   "source": [
    "#### mon code"
   ]
  },
  {
   "cell_type": "code",
   "execution_count": null,
   "metadata": {},
   "outputs": [],
   "source": []
  },
  {
   "cell_type": "code",
   "execution_count": null,
   "metadata": {},
   "outputs": [],
   "source": []
  },
  {
   "cell_type": "code",
   "execution_count": null,
   "metadata": {},
   "outputs": [],
   "source": []
  },
  {
   "cell_type": "code",
   "execution_count": null,
   "metadata": {},
   "outputs": [
    {
     "data": {
      "text/plain": [
       "b'Bonjour'"
      ]
     },
     "execution_count": 71,
     "metadata": {},
     "output_type": "execute_result"
    }
   ],
   "source": []
  },
  {
   "cell_type": "code",
   "execution_count": null,
   "metadata": {},
   "outputs": [],
   "source": []
  },
  {
   "cell_type": "code",
   "execution_count": null,
   "metadata": {},
   "outputs": [
    {
     "data": {
      "text/plain": [
       "b'ceci est un test de text a crypter'"
      ]
     },
     "execution_count": 75,
     "metadata": {},
     "output_type": "execute_result"
    }
   ],
   "source": []
  },
  {
   "cell_type": "code",
   "execution_count": null,
   "metadata": {},
   "outputs": [],
   "source": []
  },
  {
   "cell_type": "code",
   "execution_count": 74,
   "metadata": {},
   "outputs": [],
   "source": [
    "from cryptography.fernet import Fernet\n",
    "\n",
    "def create_key():\n",
    "    key = Fernet.generate_key()\n",
    "    with open(\"ma_cle.key\", \"wb\") as key_file:\n",
    "        key_file.write(key)\n",
    "\n",
    "def load_key():\n",
    "    return open(\"ma_cle.key\", \"rb\").read()\n",
    "\n",
    "\n",
    "\n",
    "\n",
    "\n",
    "\n",
    "def encrypt_file(file_name):\n",
    "    key = load_key()\n",
    "    fernet = Fernet(key)\n",
    "    with open(file_name, \"rb\") as file:\n",
    "        file_data = file.read()\n",
    "    encrypted_data = fernet.encrypt(file_data)\n",
    "    with open(file_name[:-4]+str(\"encrypted.txt\"), \"wb\") as file:\n",
    "        file.write(encrypted_data)\n",
    "        \n",
    "        \n",
    "def decrypt_file(file_name):\n",
    "    key = load_key()\n",
    "    fernet = Fernet(key)\n",
    "    with open(file_name, \"rb\") as file:\n",
    "        encrypted_data = file.read()\n",
    "    decrypted_data = fernet.decrypt(encrypted_data)\n",
    "    with open(file_name[:-4]+str(\"_decrypted.txt\"), \"wb\") as file:\n",
    "        file.write(decrypted_data)\n",
    "\n",
    "\n"
   ]
  },
  {
   "cell_type": "code",
   "execution_count": null,
   "metadata": {},
   "outputs": [
    {
     "data": {
      "text/plain": [
       "'sdfsddsfsdf'"
      ]
     },
     "execution_count": 61,
     "metadata": {},
     "output_type": "execute_result"
    }
   ],
   "source": [
    "load_key()"
   ]
  },
  {
   "cell_type": "code",
   "execution_count": null,
   "metadata": {},
   "outputs": [],
   "source": [
    "f = Fernet(load_key())\n",
    "f"
   ]
  },
  {
   "cell_type": "code",
   "execution_count": null,
   "metadata": {},
   "outputs": [],
   "source": [
    "k=f.encrypt(b\"Bonjour\")\n",
    "k"
   ]
  },
  {
   "cell_type": "code",
   "execution_count": null,
   "metadata": {},
   "outputs": [],
   "source": [
    "f.decrypt(k)"
   ]
  },
  {
   "cell_type": "code",
   "execution_count": null,
   "metadata": {},
   "outputs": [
    {
     "data": {
      "text/plain": [
       "b'my deep dark secret'"
      ]
     },
     "execution_count": 42,
     "metadata": {},
     "output_type": "execute_result"
    }
   ],
   "source": [
    "encrypt_file(\"test_truc_a_crypter.txt\")"
   ]
  },
  {
   "cell_type": "code",
   "execution_count": null,
   "metadata": {},
   "outputs": [],
   "source": [
    "f.decrypt(\"gAAAAABnwijyeICCKm9FAMWKR3ETKZ8ki-u9SgBWU8e0UwkY_adfN6F1IKDpXYVVUZQThl79itoABpgS0DP_5hVZ9kAw_HSE5YQizzBsvDMNRkaXBzGzF1erS-kxtKsz0RDgE8zhE2IG\")"
   ]
  },
  {
   "cell_type": "code",
   "execution_count": null,
   "metadata": {},
   "outputs": [],
   "source": [
    "decrypt_file(\"test_truc_a_crypterencrypted.txt\")"
   ]
  },
  {
   "cell_type": "markdown",
   "metadata": {},
   "source": [
    "## decryptage"
   ]
  },
  {
   "cell_type": "code",
   "execution_count": null,
   "metadata": {},
   "outputs": [],
   "source": []
  }
 ],
 "metadata": {
  "kernelspec": {
   "display_name": "Python 3",
   "language": "python",
   "name": "python3"
  },
  "language_info": {
   "codemirror_mode": {
    "name": "ipython",
    "version": 3
   },
   "file_extension": ".py",
   "mimetype": "text/x-python",
   "name": "python",
   "nbconvert_exporter": "python",
   "pygments_lexer": "ipython3",
   "version": "3.12.2"
  }
 },
 "nbformat": 4,
 "nbformat_minor": 2
}
