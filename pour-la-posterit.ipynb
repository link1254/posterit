{
 "cells": [
  {
   "cell_type": "markdown",
   "metadata": {},
   "source": [
    "# projet pour la posterité"
   ]
  },
  {
   "cell_type": "markdown",
   "metadata": {},
   "source": [
    "#### ce projet a pour but d'envoyer un mail au personne participant au projet \" pour la posterité\" ou aussi appelé \"Qbit\". le but du projet est d'envoyé un mail a chaque personne participantes, et de leur dire si ils sont selectionner ou non. ensuite le programme ficher le nom de la personne selectionnée et envera la clé de chiffrement a 3 personne au hassard. dans le but d'avoir le nom de la personne si jamais elle venait a ne pas remplire son devoir"
   ]
  },
  {
   "cell_type": "markdown",
   "metadata": {},
   "source": [
    "## architecture du projet :"
   ]
  },
  {
   "cell_type": "markdown",
   "metadata": {},
   "source": [
    "###\n",
    "- envoie de mail\n",
    "- recuperation des nom et tirage au sort\n",
    "- chffremment d'un fichier\n",
    "- tout"
   ]
  },
  {
   "cell_type": "markdown",
   "metadata": {},
   "source": [
    "### email"
   ]
  },
  {
   "cell_type": "markdown",
   "metadata": {},
   "source": [
    "truc gmail\n"
   ]
  },
  {
   "cell_type": "markdown",
   "metadata": {},
   "source": []
  },
  {
   "cell_type": "code",
   "execution_count": null,
   "metadata": {
    "vscode": {
     "languageId": "ruby"
    }
   },
   "outputs": [
    {
     "name": "stdout",
     "output_type": "stream",
     "text": [
      "Collecting cryptography\n",
      "  Downloading cryptography-44.0.1-cp39-abi3-win_amd64.whl.metadata (5.7 kB)\n",
      "Requirement already satisfied: cffi>=1.12 in c:\\users\\axel\\appdata\\local\\programs\\python\\python312\\lib\\site-packages (from cryptography) (1.16.0)\n",
      "Requirement already satisfied: pycparser in c:\\users\\axel\\appdata\\local\\programs\\python\\python312\\lib\\site-packages (from cffi>=1.12->cryptography) (2.21)\n",
      "Downloading cryptography-44.0.1-cp39-abi3-win_amd64.whl (3.2 MB)\n",
      "   ---------------------------------------- 0.0/3.2 MB ? eta -:--:--\n",
      "   ----------------------------- ---------- 2.4/3.2 MB 13.4 MB/s eta 0:00:01\n",
      "   ---------------------------------------- 3.2/3.2 MB 14.5 MB/s eta 0:00:00\n",
      "Installing collected packages: cryptography\n",
      "Successfully installed cryptography-44.0.1\n",
      "Note: you may need to restart the kernel to use updated packages.\n"
     ]
    },
    {
     "name": "stderr",
     "output_type": "stream",
     "text": [
      "\n",
      "[notice] A new release of pip is available: 25.0 -> 25.0.1\n",
      "[notice] To update, run: python.exe -m pip install --upgrade pip\n"
     ]
    }
   ],
   "source": []
  },
  {
   "cell_type": "code",
   "execution_count": 12,
   "metadata": {},
   "outputs": [],
   "source": [
    "destinataire = \"link12541254@gmail.com\"\n",
    "sujet = \"Test\"\n",
    "message = \"Ceci est un test 2\"\n",
    "\n",
    "def envoie_email(destinataire,sujet, message):\n",
    "    expediteur = \"qbit1254@gmail.com\"\n",
    "    mot_de_passe = \"ychh qadg dehb xuxu\" \n",
    "    em = EmailMessage()\n",
    "    em['From'] = expediteur\n",
    "    em['To'] = destinataire\n",
    "    em['Subject'] = sujet\n",
    "    em.set_content(message)\n",
    "\n",
    "    context = ssl.create_default_context()\n",
    "    with smtplib.SMTP_SSL(\"smtp.gmail.com\", 465, context=context) as smtp:\n",
    "        smtp.login(expediteur, mot_de_passe)\n",
    "        smtp.sendmail(expediteur, destinataire, em.as_string()) \n",
    "    \n",
    "    "
   ]
  },
  {
   "cell_type": "code",
   "execution_count": 16,
   "metadata": {},
   "outputs": [],
   "source": [
    "envoie_email(\"tudoracheiris2828@yahoo.com\",sujet, message)"
   ]
  },
  {
   "cell_type": "markdown",
   "metadata": {},
   "source": [
    "# cryptage"
   ]
  },
  {
   "cell_type": "markdown",
   "metadata": {},
   "source": [
    "## clé"
   ]
  },
  {
   "cell_type": "code",
   "execution_count": 10,
   "metadata": {},
   "outputs": [
    {
     "name": "stdout",
     "output_type": "stream",
     "text": [
      "Clé générée et sauvegardée dans ma_cle.key\n"
     ]
    }
   ],
   "source": [
    "from cryptography.fernet import Fernet\n",
    "\n",
    "def generate_key_and_save(filename_key: str):\n",
    "    \"\"\"\n",
    "    Génère une clé Fernet et la sauvegarde dans un fichier binaire.\n",
    "    \"\"\"\n",
    "    key = Fernet.generate_key()\n",
    "    with open(filename_key, 'wb') as key_file:\n",
    "        key_file.write(key)\n",
    "    print(f\"Clé générée et sauvegardée dans {filename_key}\")\n",
    "\n",
    "generate_key_and_save(\"ma_cle.key\")\n"
   ]
  }
 ],
 "metadata": {
  "kernelspec": {
   "display_name": "Python 3",
   "language": "python",
   "name": "python3"
  },
  "language_info": {
   "codemirror_mode": {
    "name": "ipython",
    "version": 3
   },
   "file_extension": ".py",
   "mimetype": "text/x-python",
   "name": "python",
   "nbconvert_exporter": "python",
   "pygments_lexer": "ipython3",
   "version": "3.12.2"
  }
 },
 "nbformat": 4,
 "nbformat_minor": 2
}
