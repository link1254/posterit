{
 "cells": [
  {
   "cell_type": "markdown",
   "metadata": {},
   "source": [
    "# projet pour la posterité"
   ]
  },
  {
   "cell_type": "markdown",
   "metadata": {},
   "source": [
    "#### ce projet a pour but d'envoyer un mail au personne participant au projet \" pour la posterité\" ou aussi appelé \"Qbit\". le but du projet est d'envoyé un mail a chaque personne participantes, et de leur dire si ils sont selectionner ou non. ensuite le programme ficher le nom de la personne selectionnée et envera la clé de chiffrement a 3 personne au hassard. dans le but d'avoir le nom de la personne si jamais elle venait a ne pas remplire son devoir"
   ]
  },
  {
   "cell_type": "markdown",
   "metadata": {},
   "source": [
    "## architecture du projet :"
   ]
  },
  {
   "cell_type": "markdown",
   "metadata": {},
   "source": [
    "###\n",
    "- envoie de mail\n",
    "- recuperation des nom et tirage au sort\n",
    "- chffremment d'un fichier\n",
    "- tout"
   ]
  },
  {
   "cell_type": "markdown",
   "metadata": {},
   "source": [
    "### email"
   ]
  },
  {
   "cell_type": "markdown",
   "metadata": {},
   "source": [
    "truc gmail\n"
   ]
  },
  {
   "cell_type": "markdown",
   "metadata": {},
   "source": []
  },
  {
   "cell_type": "code",
   "execution_count": null,
   "metadata": {
    "vscode": {
     "languageId": "ruby"
    }
   },
   "outputs": [],
   "source": []
  },
  {
   "cell_type": "code",
   "execution_count": null,
   "metadata": {
    "vscode": {
     "languageId": "ruby"
    }
   },
   "outputs": [],
   "source": []
  },
  {
   "cell_type": "code",
   "execution_count": 12,
   "metadata": {},
   "outputs": [],
   "source": [
    "destinataire = \"link12541254@gmail.com\"\n",
    "sujet = \"Test\"\n",
    "message = \"Ceci est un test 2\"\n",
    "\n",
    "def envoie_email(destinataire,sujet, message):\n",
    "    expediteur = \"qbit1254@gmail.com\"\n",
    "    mot_de_passe = \"ychh qadg dehb xuxu\" \n",
    "    em = EmailMessage()\n",
    "    em['From'] = expediteur\n",
    "    em['To'] = destinataire\n",
    "    em['Subject'] = sujet\n",
    "    em.set_content(message)\n",
    "\n",
    "    context = ssl.create_default_context()\n",
    "    with smtplib.SMTP_SSL(\"smtp.gmail.com\", 465, context=context) as smtp:\n",
    "        smtp.login(expediteur, mot_de_passe)\n",
    "        smtp.sendmail(expediteur, destinataire, em.as_string()) \n",
    "    \n",
    "    "
   ]
  },
  {
   "cell_type": "code",
   "execution_count": 16,
   "metadata": {},
   "outputs": [],
   "source": [
    "envoie_email(\"tudoracheiris2828@yahoo.com\",sujet, message)"
   ]
  },
  {
   "cell_type": "markdown",
   "metadata": {},
   "source": [
    "# cryptage"
   ]
  },
  {
   "cell_type": "markdown",
   "metadata": {},
   "source": [
    "## clé : creation de la clé"
   ]
  },
  {
   "cell_type": "code",
   "execution_count": 10,
   "metadata": {},
   "outputs": [
    {
     "name": "stdout",
     "output_type": "stream",
     "text": [
      "Clé générée et sauvegardée dans ma_cle.key\n"
     ]
    }
   ],
   "source": [
    "from cryptography.fernet import Fernet\n",
    "\n",
    "def generate_key_and_save(filename_key: str):\n",
    "    \"\"\"\n",
    "    Génère une clé Fernet et la sauvegarde dans un fichier binaire.\n",
    "    \"\"\"\n",
    "    key = Fernet.generate_key()\n",
    "    with open(filename_key, 'wb') as key_file:\n",
    "        key_file.write(key)\n",
    "    print(f\"Clé générée et sauvegardée dans {filename_key}\")\n",
    "\n",
    "generate_key_and_save(\"ma_cle.key\")\n"
   ]
  },
  {
   "cell_type": "markdown",
   "metadata": {},
   "source": [
    "## cryptage"
   ]
  },
  {
   "cell_type": "code",
   "execution_count": 19,
   "metadata": {},
   "outputs": [],
   "source": [
    "from cryptography.fernet import Fernet\n",
    "\n",
    "def encrypt_file(plain_filename: str, encrypted_filename: str, key_filename: str):\n",
    "    \"\"\"\n",
    "    Lit un fichier texte en clair et enregistre le contenu chiffré\n",
    "    dans un nouveau fichier.\n",
    "    \"\"\"\n",
    "    # 1) Chargement de la clé\n",
    "    with open(key_filename, 'rb') as key_file:\n",
    "        key = key_file.read()\n",
    "    fernet = Fernet(key)\n",
    "\n",
    "    # 2) Lecture du contenu du fichier texte\n",
    "    with open(plain_filename, 'rb') as file:\n",
    "        file_data = file.read()\n",
    "\n",
    "    # 3) Chiffrement du contenu\n",
    "    encrypted_data = fernet.encrypt(file_data)\n",
    "\n",
    "    # 4) Écriture du contenu chiffré dans un fichier de sortie\n",
    "    with open(encrypted_filename, 'wb') as file:\n",
    "        file.write(encrypted_data)\n",
    "\n",
    "    print(f\"Le fichier '{plain_filename}' a été chiffré et enregistré dans '{encrypted_filename}'.\")\n",
    "\n",
    "\n"
   ]
  },
  {
   "cell_type": "code",
   "execution_count": 21,
   "metadata": {},
   "outputs": [
    {
     "ename": "ValueError",
     "evalue": "Fernet key must be 32 url-safe base64-encoded bytes.",
     "output_type": "error",
     "traceback": [
      "\u001b[1;31m---------------------------------------------------------------------------\u001b[0m",
      "\u001b[1;31mValueError\u001b[0m                                Traceback (most recent call last)",
      "Cell \u001b[1;32mIn[21], line 1\u001b[0m\n\u001b[1;32m----> 1\u001b[0m \u001b[43mencrypt_file\u001b[49m\u001b[43m(\u001b[49m\u001b[38;5;124;43m\"\u001b[39;49m\u001b[38;5;124;43mma_cle.key\u001b[39;49m\u001b[38;5;124;43m\"\u001b[39;49m\u001b[43m,\u001b[49m\u001b[38;5;124;43m\"\u001b[39;49m\u001b[38;5;124;43mtest_truc_a_crypter.txt\u001b[39;49m\u001b[38;5;124;43m\"\u001b[39;49m\u001b[43m,\u001b[49m\u001b[38;5;124;43m\"\u001b[39;49m\u001b[38;5;124;43mtruc_crypter.txt\u001b[39;49m\u001b[38;5;124;43m\"\u001b[39;49m\u001b[43m)\u001b[49m\n",
      "Cell \u001b[1;32mIn[19], line 11\u001b[0m, in \u001b[0;36mencrypt_file\u001b[1;34m(plain_filename, encrypted_filename, key_filename)\u001b[0m\n\u001b[0;32m      9\u001b[0m \u001b[38;5;28;01mwith\u001b[39;00m \u001b[38;5;28mopen\u001b[39m(key_filename, \u001b[38;5;124m'\u001b[39m\u001b[38;5;124mrb\u001b[39m\u001b[38;5;124m'\u001b[39m) \u001b[38;5;28;01mas\u001b[39;00m key_file:\n\u001b[0;32m     10\u001b[0m     key \u001b[38;5;241m=\u001b[39m key_file\u001b[38;5;241m.\u001b[39mread()\n\u001b[1;32m---> 11\u001b[0m fernet \u001b[38;5;241m=\u001b[39m \u001b[43mFernet\u001b[49m\u001b[43m(\u001b[49m\u001b[43mkey\u001b[49m\u001b[43m)\u001b[49m\n\u001b[0;32m     13\u001b[0m \u001b[38;5;66;03m# 2) Lecture du contenu du fichier texte\u001b[39;00m\n\u001b[0;32m     14\u001b[0m \u001b[38;5;28;01mwith\u001b[39;00m \u001b[38;5;28mopen\u001b[39m(plain_filename, \u001b[38;5;124m'\u001b[39m\u001b[38;5;124mrb\u001b[39m\u001b[38;5;124m'\u001b[39m) \u001b[38;5;28;01mas\u001b[39;00m file:\n",
      "File \u001b[1;32mc:\\Users\\Axel\\AppData\\Local\\Programs\\Python\\Python312\\Lib\\site-packages\\cryptography\\fernet.py:40\u001b[0m, in \u001b[0;36mFernet.__init__\u001b[1;34m(self, key, backend)\u001b[0m\n\u001b[0;32m     36\u001b[0m     \u001b[38;5;28;01mraise\u001b[39;00m \u001b[38;5;167;01mValueError\u001b[39;00m(\n\u001b[0;32m     37\u001b[0m         \u001b[38;5;124m\"\u001b[39m\u001b[38;5;124mFernet key must be 32 url-safe base64-encoded bytes.\u001b[39m\u001b[38;5;124m\"\u001b[39m\n\u001b[0;32m     38\u001b[0m     ) \u001b[38;5;28;01mfrom\u001b[39;00m \u001b[38;5;21;01mexc\u001b[39;00m\n\u001b[0;32m     39\u001b[0m \u001b[38;5;28;01mif\u001b[39;00m \u001b[38;5;28mlen\u001b[39m(key) \u001b[38;5;241m!=\u001b[39m \u001b[38;5;241m32\u001b[39m:\n\u001b[1;32m---> 40\u001b[0m     \u001b[38;5;28;01mraise\u001b[39;00m \u001b[38;5;167;01mValueError\u001b[39;00m(\n\u001b[0;32m     41\u001b[0m         \u001b[38;5;124m\"\u001b[39m\u001b[38;5;124mFernet key must be 32 url-safe base64-encoded bytes.\u001b[39m\u001b[38;5;124m\"\u001b[39m\n\u001b[0;32m     42\u001b[0m     )\n\u001b[0;32m     44\u001b[0m \u001b[38;5;28mself\u001b[39m\u001b[38;5;241m.\u001b[39m_signing_key \u001b[38;5;241m=\u001b[39m key[:\u001b[38;5;241m16\u001b[39m]\n\u001b[0;32m     45\u001b[0m \u001b[38;5;28mself\u001b[39m\u001b[38;5;241m.\u001b[39m_encryption_key \u001b[38;5;241m=\u001b[39m key[\u001b[38;5;241m16\u001b[39m:]\n",
      "\u001b[1;31mValueError\u001b[0m: Fernet key must be 32 url-safe base64-encoded bytes."
     ]
    }
   ],
   "source": [
    "encrypt_file(\"ma_cle.key\",\"test_truc_a_crypter.txt\",\"truc_crypter.txt\")"
   ]
  },
  {
   "cell_type": "markdown",
   "metadata": {},
   "source": [
    "## decryptage"
   ]
  },
  {
   "cell_type": "code",
   "execution_count": null,
   "metadata": {},
   "outputs": [],
   "source": [
    "from cryptography.fernet import Fernet\n",
    "\n",
    "def decrypt_file(encrypted_filename: str, decrypted_filename: str, key_filename: str):\n",
    "    \"\"\"\n",
    "    Lit un fichier chiffré et enregistre son contenu déchiffré\n",
    "    dans un nouveau fichier.\n",
    "    \"\"\"\n",
    "    # 1) Chargement de la clé\n",
    "    with open(key_filename, 'rb') as key_file:\n",
    "        key = key_file.read()\n",
    "    fernet = Fernet(key)\n",
    "\n",
    "    # 2) Lecture du contenu chiffré\n",
    "    with open(encrypted_filename, 'rb') as file:\n",
    "        encrypted_data = file.read()\n",
    "\n",
    "    # 3) Déchiffrement\n",
    "    decrypted_data = fernet.decrypt(encrypted_data)\n",
    "\n",
    "    # 4) Écriture dans un fichier texte\n",
    "    with open(decrypted_filename, 'wb') as file:\n",
    "        file.write(decrypted_data)\n",
    "\n",
    "    print(f\"Le fichier chiffré '{encrypted_filename}' a été déchiffré en '{decrypted_filename}'.\")\n",
    "\n",
    "if __name__ == \"__main__\":\n",
    "    decrypt_file(\"mon_texte.txt.enc\", \"mon_texte_dechiffre.txt\", \"ma_cle.key\")\n"
   ]
  }
 ],
 "metadata": {
  "kernelspec": {
   "display_name": "Python 3",
   "language": "python",
   "name": "python3"
  },
  "language_info": {
   "codemirror_mode": {
    "name": "ipython",
    "version": 3
   },
   "file_extension": ".py",
   "mimetype": "text/x-python",
   "name": "python",
   "nbconvert_exporter": "python",
   "pygments_lexer": "ipython3",
   "version": "3.12.2"
  }
 },
 "nbformat": 4,
 "nbformat_minor": 2
}
