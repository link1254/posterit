{
 "cells": [
  {
   "cell_type": "markdown",
   "metadata": {},
   "source": [
    "# projet pour la posterité"
   ]
  },
  {
   "cell_type": "markdown",
   "metadata": {},
   "source": [
    "#### ce projet a pour but d'envoyer un mail au personne participant au projet \" pour la posterité\" ou aussi appelé \"Qbit\". le but du projet est d'envoyé un mail a chaque personne participantes, et de leur dire si ils sont selectionner ou non. ensuite le programme ficher le nom de la personne selectionnée et envera la clé de chiffrement a 3 personne au hassard. dans le but d'avoir le nom de la personne si jamais elle venait a ne pas remplire son devoir"
   ]
  },
  {
   "cell_type": "markdown",
   "metadata": {},
   "source": [
    "## architecture du projet :"
   ]
  },
  {
   "cell_type": "markdown",
   "metadata": {},
   "source": [
    "###\n",
    "- envoie de mail\n",
    "- recuperation des nom et tirage au sort\n",
    "- chffremment d'un fichier\n",
    "- tout"
   ]
  },
  {
   "cell_type": "markdown",
   "metadata": {},
   "source": [
    "### email"
   ]
  },
  {
   "cell_type": "markdown",
   "metadata": {},
   "source": [
    "truc gmail\n"
   ]
  },
  {
   "cell_type": "code",
   "execution_count": 1,
   "metadata": {},
   "outputs": [],
   "source": [
    "from email.message import EmailMessage # for creating email\n",
    "import smtplib # for sending email\n",
    "import ssl # for secure connection\n"
   ]
  },
  {
   "cell_type": "code",
   "execution_count": 2,
   "metadata": {},
   "outputs": [],
   "source": [
    "destinataire = \"link12541254@gmail.com\"\n",
    "sujet = \"Projet - Pour la postérité: tirage au sort\"\n",
    "message = \"Ceci est un test 2\"\n",
    "\n",
    "def envoie_email(destinataire,sujet, message):\n",
    "    expediteur = \"qbit1254@gmail.com\"\n",
    "    mot_de_passe = \"ychh qadg dehb xuxu\" \n",
    "    em = EmailMessage()\n",
    "    em['From'] = expediteur\n",
    "    em['To'] = destinataire\n",
    "    em['Subject'] = sujet\n",
    "    em.set_content(message)\n",
    "\n",
    "    context = ssl.create_default_context()\n",
    "    with smtplib.SMTP_SSL(\"smtp.gmail.com\", 465, context=context) as smtp:\n",
    "        smtp.login(expediteur, mot_de_passe)\n",
    "        smtp.sendmail(expediteur, destinataire, em.as_string()) \n",
    "    \n",
    "    "
   ]
  },
  {
   "cell_type": "code",
   "execution_count": 3,
   "metadata": {},
   "outputs": [],
   "source": [
    "import os\n",
    "import smtplib\n",
    "import ssl\n",
    "from email.message import EmailMessage\n",
    "\n",
    "def envoie_email_jointe(destinataire, sujet, message, attachment_path=None):\n",
    "    expediteur = \"qbit1254@gmail.com\"\n",
    "    mot_de_passe = \"ychh qadg dehb xuxu\"  # <-- App Password conseillé si 2FA activée\n",
    "    \n",
    "    em = EmailMessage()\n",
    "    em[\"From\"] = expediteur\n",
    "    em[\"To\"] = destinataire\n",
    "    em[\"Subject\"] = sujet\n",
    "    em.set_content(message)\n",
    "    \n",
    "    # Si un chemin de fichier est fourni, on joint le fichier à l'email\n",
    "    if attachment_path is not None:\n",
    "        # Lecture du fichier en binaire\n",
    "        with open(attachment_path, \"rb\") as f:\n",
    "            file_data = f.read()\n",
    "            # Récupérer le nom du fichier (sans le chemin)\n",
    "            file_name = os.path.basename(attachment_path)\n",
    "        \n",
    "        # Ajout de la pièce jointe dans l'objet EmailMessage\n",
    "        em.add_attachment(\n",
    "            file_data,\n",
    "            maintype=\"application\",\n",
    "            subtype=\"octet-stream\",\n",
    "            filename=file_name\n",
    "        )\n",
    "    \n",
    "    # Création d'un contexte SSL pour sécuriser la connexion\n",
    "    context = ssl.create_default_context()\n",
    "    \n",
    "    # Connexion au serveur SMTP en SSL\n",
    "    with smtplib.SMTP_SSL(\"smtp.gmail.com\", 465, context=context) as smtp:\n",
    "        smtp.login(expediteur, mot_de_passe)\n",
    "        smtp.sendmail(expediteur, destinataire, em.as_string())\n",
    "\n",
    "\n"
   ]
  },
  {
   "cell_type": "code",
   "execution_count": 4,
   "metadata": {},
   "outputs": [],
   "source": [
    "file_path = r\"C:\\Users\\Axel\\OneDrive - unige.ch\\0moi\\0\\emplacement.txt\"\n",
    "\n",
    "with open(file_path, 'r') as file:\n",
    "    rows = file.readlines()\n",
    "\n",
    "# Remove any trailing newline characters\n",
    "placements = [row.strip() for row in rows]\n",
    "\n"
   ]
  },
  {
   "cell_type": "code",
   "execution_count": 5,
   "metadata": {},
   "outputs": [
    {
     "data": {
      "text/plain": [
       "[\"boite au lettre de l'AEP. dans le hall de l'Ã©cole de physique, Ã\\xa0 cotÃ© de la loge. la boite en bas Ã\\xa0 droite.\",\n",
       " \"loge de sciences 2, demander le colis laissÃ© par l'aesc pour l'association des etudiants en sciences pharmacieutique.\",\n",
       " 'toilette homme de sciences 1, au premiere etage. au fond dans la salle serveur.']"
      ]
     },
     "execution_count": 5,
     "metadata": {},
     "output_type": "execute_result"
    }
   ],
   "source": [
    "placements"
   ]
  },
  {
   "cell_type": "code",
   "execution_count": 6,
   "metadata": {},
   "outputs": [],
   "source": [
    "key=\"123\"\n",
    "key_list=[1,2,3]\n",
    "ieme_key=0\n",
    "ieme_place=0\n",
    "def corps(nom, tag):\n",
    "    if not tag in [\"clone\",\"clé\",\"normal\"]:\n",
    "        raise ValueError(\"Tag inconnu\")\n",
    "    \n",
    "\n",
    "\n",
    "    if tag == \"normal\":\n",
    "        return f\"\"\"\\\n",
    "        Bonjour {nom},\n",
    "\n",
    "        J'espère que vous allez bien. Je suis désolé de vous anoncer que vous n'avez pas été sélectionné pour Cloner votre chibre. \n",
    "        ni pour être detenteur d'une partie de la clé.\n",
    "\n",
    "\n",
    "\n",
    "        Bien cordialement,\n",
    "\n",
    "        L'Organisation du Projet Qbit\n",
    "\n",
    "        \"\"\"\n",
    "    \n",
    "    if tag == \"clé\":\n",
    "        return f\"\"\"\\\n",
    "        Bonjour {nom},\n",
    "\n",
    "        J'espère que vous allez bien. Je suis désolé de vous anoncer que vous n'avez pas été sélectionné pour Cloner votre chibre. \n",
    "        MAIS pour être detenteur d'une partie de la clé.\n",
    "\n",
    "             Vous posédé la partie numero {ieme_key+1} de la clé.votre clé est : {key_list[ieme_key]}\n",
    "\n",
    "        celle si devra être gardé en sécurité et n'être revelé que si apres une semaine, le clone n'as pas été recuperé. ou si le clone n'as pas été utilisé rendu dans les temps.\n",
    "\n",
    "\n",
    "\n",
    "        Bien cordialement,\n",
    "\n",
    "        L'Organisation du Projet Qbit\n",
    "\n",
    "        \"\"\"\n",
    "    \n",
    "    if tag == \"clone\":\n",
    "        return f\"\"\"\\\n",
    "        Bonjour {nom},\n",
    "\n",
    "        J'espère que vous allez bien. Je suis heureux de vous anoncer que vous AVEZ  été sélectionné pour Cloner votre chibre.\n",
    "\n",
    "        Nous nous rejouissons de jouer avec :)\n",
    "\n",
    "        en attendant il faut que vous ayez le chercher dans un delais de UNE SEMAINE a l'adresse suivante : \n",
    "\n",
    "            -{placements[ieme_place]}\n",
    "\n",
    "         si le packet n'est pas recuperer d'ici là, votre identité sera revelé a tous les participants.\n",
    "         idem dans le cas ou vous ne rendez pas le clone dans les temps.\n",
    "\n",
    "\n",
    "        \n",
    "\n",
    "\n",
    "\n",
    "        Bien cordialement et bon courage,\n",
    "\n",
    "        L'Organisation du Projet Qbit\n",
    "\n",
    "        P.S. Si vous avez besoin d'aide pour le moulage: fgirl.ch\n",
    "\n",
    "        \"\"\""
   ]
  },
  {
   "cell_type": "code",
   "execution_count": 7,
   "metadata": {},
   "outputs": [],
   "source": [
    "#envoie_email(destinataire,sujet, corps(\"bob\",\"clone\"))"
   ]
  },
  {
   "cell_type": "code",
   "execution_count": 8,
   "metadata": {},
   "outputs": [],
   "source": [
    "#envoie_email(\"axel.grand@etu.unige.ch\",sujet, message)"
   ]
  },
  {
   "cell_type": "markdown",
   "metadata": {},
   "source": [
    "# cryptage"
   ]
  },
  {
   "cell_type": "markdown",
   "metadata": {},
   "source": [
    "## clé : creation de la clé"
   ]
  },
  {
   "cell_type": "code",
   "execution_count": 9,
   "metadata": {},
   "outputs": [
    {
     "name": "stdout",
     "output_type": "stream",
     "text": [
      "Clé générée et sauvegardée dans ma_cle.key\n"
     ]
    }
   ],
   "source": [
    "from cryptography.fernet import Fernet\n",
    "\n",
    "def generate_key_and_save(filename_key: str):\n",
    "    \"\"\"\n",
    "    Génère une clé Fernet et la sauvegarde dans un fichier binaire.\n",
    "    \"\"\"\n",
    "    key = Fernet.generate_key()\n",
    "    with open(filename_key, 'wb') as key_file:\n",
    "        key_file.write(key)\n",
    "    print(f\"Clé générée et sauvegardée dans {filename_key}\")\n",
    "\n",
    "generate_key_and_save(\"ma_cle.key\")\n"
   ]
  },
  {
   "cell_type": "markdown",
   "metadata": {},
   "source": [
    "## cryptage"
   ]
  },
  {
   "cell_type": "markdown",
   "metadata": {},
   "source": [
    "#### exemple"
   ]
  },
  {
   "cell_type": "code",
   "execution_count": 10,
   "metadata": {},
   "outputs": [
    {
     "name": "stdout",
     "output_type": "stream",
     "text": [
      "b'bPB7B_x_dhxHSoJwBeGZEBS_W0r03mv-9z_Gxh_zQi0='\n"
     ]
    },
    {
     "data": {
      "text/plain": [
       "b'my deep dark secret'"
      ]
     },
     "execution_count": 10,
     "metadata": {},
     "output_type": "execute_result"
    }
   ],
   "source": [
    "from cryptography.fernet import Fernet\n",
    "\n",
    "key = Fernet.generate_key()\n",
    "print(key)\n",
    "\n",
    "f = Fernet(key)\n",
    "\n",
    "token = f.encrypt(b\"my deep dark secret\")\n",
    "\n",
    "token\n",
    "b'...'\n",
    "\n",
    "f.decrypt(token)\n",
    "b'my deep dark secret'"
   ]
  },
  {
   "cell_type": "markdown",
   "metadata": {},
   "source": [
    "#### mon code"
   ]
  },
  {
   "cell_type": "code",
   "execution_count": 11,
   "metadata": {},
   "outputs": [],
   "source": [
    "from cryptography.fernet import Fernet\n",
    "\n",
    "def create_key():\n",
    "    key = Fernet.generate_key()\n",
    "    with open(\"ma_cle.key\", \"wb\") as key_file:\n",
    "        key_file.write(key)\n",
    "\n",
    "def load_key():\n",
    "    return open(\"ma_cle.key\", \"rb\").read()\n",
    "\n",
    "\n",
    "Final_execution=False   \n",
    "def char_to_3_list(char):\n",
    "    list=[]\n",
    "    list.append(char[0:len(char)//3])\n",
    "    list.append(char[len(char)//3:2*len(char)//3])\n",
    "    list.append(char[2*len(char)//3:len(char)])\n",
    "   \n",
    "    if Final_execution==False:\n",
    "        return list\n",
    "    if Final_execution==True:\n",
    "        global NB_choisi_pour_clone\n",
    "        NB_choisi_pour_clone=3\n",
    "        return list\n",
    "\n",
    "\n",
    "\n",
    "def encrypt_file(file_name):\n",
    "    key = load_key()\n",
    "    fernet = Fernet(key)\n",
    "    with open(file_name, \"rb\") as file:\n",
    "        file_data = file.read()\n",
    "    encrypted_data = fernet.encrypt(file_data)\n",
    "    with open(file_name[:-4]+str(\"_encrypted.txt\"), \"wb\") as file:\n",
    "        file.write(encrypted_data)\n",
    "        \n",
    "        \n",
    "def decrypt_file(file_name):\n",
    "    key = load_key()\n",
    "    fernet = Fernet(key)\n",
    "    with open(file_name, \"rb\") as file:\n",
    "        encrypted_data = file.read()\n",
    "    decrypted_data = fernet.decrypt(encrypted_data)\n",
    "    with open(file_name[:-4]+str(\"_decrypted.txt\"), \"wb\") as file:\n",
    "        file.write(decrypted_data)\n",
    "\n",
    "def decrypt_file_with_splited3_key(file_name,key1,key2,key3):\n",
    "    key = key1+key2+key3\n",
    "    fernet = Fernet(key)\n",
    "    with open(file_name, \"rb\") as file:\n",
    "        encrypted_data = file.read()\n",
    "    decrypted_data = fernet.decrypt(encrypted_data)\n",
    "    with open(file_name[:-4]+str(\"_decrypted.txt\"), \"wb\") as file:\n",
    "        file.write(decrypted_data)\n",
    "\n"
   ]
  },
  {
   "cell_type": "code",
   "execution_count": 12,
   "metadata": {},
   "outputs": [],
   "source": [
    "key_list=char_to_3_list(load_key())"
   ]
  },
  {
   "cell_type": "code",
   "execution_count": 13,
   "metadata": {},
   "outputs": [
    {
     "data": {
      "text/plain": [
       "True"
      ]
     },
     "execution_count": 13,
     "metadata": {},
     "output_type": "execute_result"
    }
   ],
   "source": [
    "key=load_key()\n",
    "key==key_list[0]+key_list[1]+key_list[2]"
   ]
  },
  {
   "cell_type": "markdown",
   "metadata": {},
   "source": [
    "## recuperation des emails"
   ]
  },
  {
   "cell_type": "code",
   "execution_count": 14,
   "metadata": {},
   "outputs": [],
   "source": [
    "def all_elements_unique(lst):\n",
    "    if not len(lst) == len(set(lst)):\n",
    "        raise ValueError(\"The email addresses are not unique.\")\n",
    "\n",
    "\n",
    "    \n",
    "\n",
    "# Example usage\n",
    "example_list = [1, 2, 3, 4, 5]\n",
    "all_elements_unique(example_list)  # Output: True\n",
    "\n",
    "example_list = [1, 2, 2, 4, 5]\n",
    "#all_elements_unique(example_list)  # Output: False"
   ]
  },
  {
   "cell_type": "code",
   "execution_count": 15,
   "metadata": {},
   "outputs": [],
   "source": [
    "import pandas as pd\n",
    "my_csv_file_name = \"Formulaire sans titre (réponses) - Réponses au formulaire 1.csv\"\n",
    "# Read the CSV file\n",
    "df = pd.read_csv(my_csv_file_name)\n",
    "\n",
    "# Convert the dataframe to a list of lists\n",
    "data_list = df.values.tolist()\n",
    "dicto_nom_email = {}\n",
    "\n",
    "\n",
    "def get_email_list(data_list):\n",
    "    email_list = []\n",
    "    for i in range(len(data_list)):\n",
    "        email_list.append(data_list[i][3])\n",
    "        dicto_nom_email[data_list[i][3]] = data_list[i][1]\n",
    "    all_elements_unique(email_list)\n",
    "    return email_list\n",
    "\n",
    "email_list=get_email_list(data_list)"
   ]
  },
  {
   "cell_type": "markdown",
   "metadata": {},
   "source": [
    "## execution du programme"
   ]
  },
  {
   "cell_type": "code",
   "execution_count": 16,
   "metadata": {},
   "outputs": [
    {
     "ename": "SyntaxError",
     "evalue": "expected ':' (3220588454.py, line 3)",
     "output_type": "error",
     "traceback": [
      "\u001b[1;36m  Cell \u001b[1;32mIn[16], line 3\u001b[1;36m\u001b[0m\n\u001b[1;33m    def stoop(email)\u001b[0m\n\u001b[1;37m                    ^\u001b[0m\n\u001b[1;31mSyntaxError\u001b[0m\u001b[1;31m:\u001b[0m expected ':'\n"
     ]
    }
   ],
   "source": [
    "# just pour break quand on lance tout le jupyter\n",
    "\n",
    "def stoop(email)\n",
    "    ff"
   ]
  },
  {
   "cell_type": "code",
   "execution_count": 17,
   "metadata": {},
   "outputs": [],
   "source": [
    "import random\n",
    "import os\n",
    "import tqdm # for progress bar\n",
    "\n",
    "NB_choisi_pour_clé = 3 # la clé de cryptage est de base coupé en 3. si on veut changer ce nombre il faut changer la fonction char_to_3_list\n",
    "NB_choisi_pour_clone=1\n",
    "\n",
    "\n"
   ]
  },
  {
   "cell_type": "code",
   "execution_count": null,
   "metadata": {},
   "outputs": [
    {
     "data": {
      "text/plain": [
       "['sergejlaub5@gmail.com',\n",
       " 'axel1254@gmail.com',\n",
       " 'drinimarchese@gmail.com',\n",
       " 'moretti.theo@gmail.com']"
      ]
     },
     "execution_count": 18,
     "metadata": {},
     "output_type": "execute_result"
    }
   ],
   "source": [
    "# Juste un exemple, c'est pas les vrai nom\n",
    "email_list=get_email_list(data_list)\n",
    "\n",
    "the_chosen=random.sample(email_list,NB_choisi_pour_clé+NB_choisi_pour_clone)\n",
    "the_chosen"
   ]
  },
  {
   "cell_type": "code",
   "execution_count": 18,
   "metadata": {},
   "outputs": [],
   "source": [
    "file_path = r\"C:\\Users\\Axel\\OneDrive - unige.ch\\0moi\\0\\emplacement.txt\"\n",
    "\n",
    "with open(file_path, 'r') as file:\n",
    "    rows = file.readlines()\n",
    "\n",
    "# Remove any trailing newline characters\n",
    "placements = [row.strip() for row in rows]\n",
    "\n"
   ]
  },
  {
   "cell_type": "code",
   "execution_count": null,
   "metadata": {},
   "outputs": [
    {
     "data": {
      "text/plain": [
       "[\"boite au lettre de l'AEP. dans le hall de l'Ã©cole de physique, Ã\\xa0 cotÃ© de la loge\",\n",
       " \"loge de sciences 2, demander le colis laissÃ© par l'aesc pour l'association des etudiants en pharmacie\",\n",
       " \"salle d'etude\"]"
      ]
     },
     "execution_count": 32,
     "metadata": {},
     "output_type": "execute_result"
    }
   ],
   "source": [
    "placements"
   ]
  },
  {
   "cell_type": "code",
   "execution_count": null,
   "metadata": {},
   "outputs": [
    {
     "name": "stdout",
     "output_type": "stream",
     "text": [
      "debut de l'excution du programe : Final_execution set sur False\n",
      "ATTENTION: Final_execution est sur True, le fichier contenant la clé va être supprimé\n",
      "creation de la clé\n",
      "clé créée\n",
      "chargement de la clé\n",
      "découpage de la clé effectué avec succès\n",
      "chargement des emails\n",
      "emails chargés\n",
      "tirage au sort\n",
      "tirage au sort effectué\n",
      "envoie des emails\n"
     ]
    },
    {
     "name": "stderr",
     "output_type": "stream",
     "text": [
      "100%|██████████| 24/24 [00:00<?, ?it/s]\n"
     ]
    },
    {
     "name": "stdout",
     "output_type": "stream",
     "text": [
      "normal: bast.lacave@gmail.com\n",
      "        Bonjour Bastien ,\n",
      "\n",
      "        J'espère que vous allez bien. Je suis désolé de vous anoncer que vous n'avez pas été sélectionné pour Cloner votre chibre. \n",
      "        ni pour être detenteur d'une partie de la clé.\n",
      "\n",
      "\n",
      "\n",
      "        Bien cordialement,\n",
      "\n",
      "        L'Organisation du Projet Qbit\n",
      "\n",
      "        \n",
      "normal: axel1254@gmail.com\n",
      "        Bonjour axel,\n",
      "\n",
      "        J'espère que vous allez bien. Je suis désolé de vous anoncer que vous n'avez pas été sélectionné pour Cloner votre chibre. \n",
      "        ni pour être detenteur d'une partie de la clé.\n",
      "\n",
      "\n",
      "\n",
      "        Bien cordialement,\n",
      "\n",
      "        L'Organisation du Projet Qbit\n",
      "\n",
      "        \n",
      "normal: mail@ferrer.re\n",
      "        Bonjour Sebastian,\n",
      "\n",
      "        J'espère que vous allez bien. Je suis désolé de vous anoncer que vous n'avez pas été sélectionné pour Cloner votre chibre. \n",
      "        ni pour être detenteur d'une partie de la clé.\n",
      "\n",
      "\n",
      "\n",
      "        Bien cordialement,\n",
      "\n",
      "        L'Organisation du Projet Qbit\n",
      "\n",
      "        \n",
      "normal: kenji@tanaka.ninja\n",
      "        Bonjour Kenji,\n",
      "\n",
      "        J'espère que vous allez bien. Je suis désolé de vous anoncer que vous n'avez pas été sélectionné pour Cloner votre chibre. \n",
      "        ni pour être detenteur d'une partie de la clé.\n",
      "\n",
      "\n",
      "\n",
      "        Bien cordialement,\n",
      "\n",
      "        L'Organisation du Projet Qbit\n",
      "\n",
      "        \n",
      "normal: giangifolino@gmail.com\n",
      "        Bonjour Gianluca,\n",
      "\n",
      "        J'espère que vous allez bien. Je suis désolé de vous anoncer que vous n'avez pas été sélectionné pour Cloner votre chibre. \n",
      "        ni pour être detenteur d'une partie de la clé.\n",
      "\n",
      "\n",
      "\n",
      "        Bien cordialement,\n",
      "\n",
      "        L'Organisation du Projet Qbit\n",
      "\n",
      "        \n",
      "normal: grosse_teub@hboutin.ch\n",
      "        Bonjour hugo,\n",
      "\n",
      "        J'espère que vous allez bien. Je suis désolé de vous anoncer que vous n'avez pas été sélectionné pour Cloner votre chibre. \n",
      "        ni pour être detenteur d'une partie de la clé.\n",
      "\n",
      "\n",
      "\n",
      "        Bien cordialement,\n",
      "\n",
      "        L'Organisation du Projet Qbit\n",
      "\n",
      "        \n",
      "normal: Cecemarques@icloud.com\n",
      "        Bonjour Cedric ,\n",
      "\n",
      "        J'espère que vous allez bien. Je suis désolé de vous anoncer que vous n'avez pas été sélectionné pour Cloner votre chibre. \n",
      "        ni pour être detenteur d'une partie de la clé.\n",
      "\n",
      "\n",
      "\n",
      "        Bien cordialement,\n",
      "\n",
      "        L'Organisation du Projet Qbit\n",
      "\n",
      "        \n",
      "normal: clone.pushover928@passmail.net\n",
      "        Bonjour Stefano,\n",
      "\n",
      "        J'espère que vous allez bien. Je suis désolé de vous anoncer que vous n'avez pas été sélectionné pour Cloner votre chibre. \n",
      "        ni pour être detenteur d'une partie de la clé.\n",
      "\n",
      "\n",
      "\n",
      "        Bien cordialement,\n",
      "\n",
      "        L'Organisation du Projet Qbit\n",
      "\n",
      "        \n",
      "normal: thomas.moreau.ts@gmail.com\n",
      "        Bonjour thomas,\n",
      "\n",
      "        J'espère que vous allez bien. Je suis désolé de vous anoncer que vous n'avez pas été sélectionné pour Cloner votre chibre. \n",
      "        ni pour être detenteur d'une partie de la clé.\n",
      "\n",
      "\n",
      "\n",
      "        Bien cordialement,\n",
      "\n",
      "        L'Organisation du Projet Qbit\n",
      "\n",
      "        \n",
      "clone: Dimitry.deruaz@gmail.com\n",
      "        Bonjour Dimitry ,\n",
      "\n",
      "        J'espère que vous allez bien. Je suis heureux de vous anoncer que vous AVEZ  été sélectionné pour Cloner votre chibre.\n",
      "\n",
      "        Nous nous rejouissons de jouer avec :)\n",
      "\n",
      "        en attendant il faut que vous ayez le chercher dans un delais de UNE SEMAINE a l'adresse suivante : \n",
      "\n",
      "            -boite au lettre de l'AEP. dans le hall de l'Ã©cole de physique, Ã  cotÃ© de la loge\n",
      "\n",
      "         si le packet n'est pas recuperer d'ici là, votre identité sera revelé a tous les participants.\n",
      "         idem dans le cas ou vous ne rendez pas le clone dans les temps.\n",
      "\n",
      "\n",
      "        \n",
      "\n",
      "\n",
      "\n",
      "        Bien cordialement et bon courage,\n",
      "\n",
      "        L'Organisation du Projet Qbit\n",
      "\n",
      "        P.S. Si vous avez besoin d'aide pour le moulage: fgirl.ch\n",
      "\n",
      "        \n",
      "normal: aurelien.balzli@gmail.com\n",
      "        Bonjour Aurelien,\n",
      "\n",
      "        J'espère que vous allez bien. Je suis désolé de vous anoncer que vous n'avez pas été sélectionné pour Cloner votre chibre. \n",
      "        ni pour être detenteur d'une partie de la clé.\n",
      "\n",
      "\n",
      "\n",
      "        Bien cordialement,\n",
      "\n",
      "        L'Organisation du Projet Qbit\n",
      "\n",
      "        \n",
      "normal: drinimarchese@gmail.com\n",
      "        Bonjour Drini,\n",
      "\n",
      "        J'espère que vous allez bien. Je suis désolé de vous anoncer que vous n'avez pas été sélectionné pour Cloner votre chibre. \n",
      "        ni pour être detenteur d'une partie de la clé.\n",
      "\n",
      "\n",
      "\n",
      "        Bien cordialement,\n",
      "\n",
      "        L'Organisation du Projet Qbit\n",
      "\n",
      "        \n",
      "normal: Ericbolson7@gmail.com\n",
      "        Bonjour Eric,\n",
      "\n",
      "        J'espère que vous allez bien. Je suis désolé de vous anoncer que vous n'avez pas été sélectionné pour Cloner votre chibre. \n",
      "        ni pour être detenteur d'une partie de la clé.\n",
      "\n",
      "\n",
      "\n",
      "        Bien cordialement,\n",
      "\n",
      "        L'Organisation du Projet Qbit\n",
      "\n",
      "        \n",
      "normal: aleemarshad@hotmail.com\n",
      "        Bonjour aleem,\n",
      "\n",
      "        J'espère que vous allez bien. Je suis désolé de vous anoncer que vous n'avez pas été sélectionné pour Cloner votre chibre. \n",
      "        ni pour être detenteur d'une partie de la clé.\n",
      "\n",
      "\n",
      "\n",
      "        Bien cordialement,\n",
      "\n",
      "        L'Organisation du Projet Qbit\n",
      "\n",
      "        \n",
      "normal: moretti.theo@gmail.com\n",
      "        Bonjour Theo,\n",
      "\n",
      "        J'espère que vous allez bien. Je suis désolé de vous anoncer que vous n'avez pas été sélectionné pour Cloner votre chibre. \n",
      "        ni pour être detenteur d'une partie de la clé.\n",
      "\n",
      "\n",
      "\n",
      "        Bien cordialement,\n",
      "\n",
      "        L'Organisation du Projet Qbit\n",
      "\n",
      "        \n",
      "clé: lukagigli03@gmail.com\n",
      "        Bonjour Luka,\n",
      "\n",
      "        J'espère que vous allez bien. Je suis désolé de vous anoncer que vous n'avez pas été sélectionné pour Cloner votre chibre. \n",
      "        MAIS pour être detenteur d'une partie de la clé.\n",
      "\n",
      "             Vous posédé la partie numero 1 de la clé.votre clé est : b'11A5jZo5SUaBXm'\n",
      "\n",
      "        celle si devra être gardé en sécurité et n'être revelé que si apres une semaine, le clone n'as pas été recuperé. ou si le clone n'as pas été utilisé rendu dans les temps.\n",
      "\n",
      "\n",
      "\n",
      "        Bien cordialement,\n",
      "\n",
      "        L'Organisation du Projet Qbit\n",
      "\n",
      "        \n",
      "clé: andres@briones.ch\n",
      "        Bonjour Andres,\n",
      "\n",
      "        J'espère que vous allez bien. Je suis désolé de vous anoncer que vous n'avez pas été sélectionné pour Cloner votre chibre. \n",
      "        MAIS pour être detenteur d'une partie de la clé.\n",
      "\n",
      "             Vous posédé la partie numero 2 de la clé.votre clé est : b'j_uJ3dnvWgKyI2K'\n",
      "\n",
      "        celle si devra être gardé en sécurité et n'être revelé que si apres une semaine, le clone n'as pas été recuperé. ou si le clone n'as pas été utilisé rendu dans les temps.\n",
      "\n",
      "\n",
      "\n",
      "        Bien cordialement,\n",
      "\n",
      "        L'Organisation du Projet Qbit\n",
      "\n",
      "        \n",
      "normal: sergejlaub5@gmail.com\n",
      "        Bonjour Sergej,\n",
      "\n",
      "        J'espère que vous allez bien. Je suis désolé de vous anoncer que vous n'avez pas été sélectionné pour Cloner votre chibre. \n",
      "        ni pour être detenteur d'une partie de la clé.\n",
      "\n",
      "\n",
      "\n",
      "        Bien cordialement,\n",
      "\n",
      "        L'Organisation du Projet Qbit\n",
      "\n",
      "        \n",
      "normal: edward.galantay@gmail.com\n",
      "        Bonjour Karl,\n",
      "\n",
      "        J'espère que vous allez bien. Je suis désolé de vous anoncer que vous n'avez pas été sélectionné pour Cloner votre chibre. \n",
      "        ni pour être detenteur d'une partie de la clé.\n",
      "\n",
      "\n",
      "\n",
      "        Bien cordialement,\n",
      "\n",
      "        L'Organisation du Projet Qbit\n",
      "\n",
      "        \n",
      "normal: yanisdegand@gmail.com\n",
      "        Bonjour Yanis,\n",
      "\n",
      "        J'espère que vous allez bien. Je suis désolé de vous anoncer que vous n'avez pas été sélectionné pour Cloner votre chibre. \n",
      "        ni pour être detenteur d'une partie de la clé.\n",
      "\n",
      "\n",
      "\n",
      "        Bien cordialement,\n",
      "\n",
      "        L'Organisation du Projet Qbit\n",
      "\n",
      "        \n",
      "normal: gsimoesg@gmail.com\n",
      "        Bonjour Gabriel,\n",
      "\n",
      "        J'espère que vous allez bien. Je suis désolé de vous anoncer que vous n'avez pas été sélectionné pour Cloner votre chibre. \n",
      "        ni pour être detenteur d'une partie de la clé.\n",
      "\n",
      "\n",
      "\n",
      "        Bien cordialement,\n",
      "\n",
      "        L'Organisation du Projet Qbit\n",
      "\n",
      "        \n",
      "normal: Lucas.deazevedo@ymail.com\n",
      "        Bonjour Lucas ,\n",
      "\n",
      "        J'espère que vous allez bien. Je suis désolé de vous anoncer que vous n'avez pas été sélectionné pour Cloner votre chibre. \n",
      "        ni pour être detenteur d'une partie de la clé.\n",
      "\n",
      "\n",
      "\n",
      "        Bien cordialement,\n",
      "\n",
      "        L'Organisation du Projet Qbit\n",
      "\n",
      "        \n",
      "clé: bayan_felipin@hotmail.com\n",
      "        Bonjour Brayan,\n",
      "\n",
      "        J'espère que vous allez bien. Je suis désolé de vous anoncer que vous n'avez pas été sélectionné pour Cloner votre chibre. \n",
      "        MAIS pour être detenteur d'une partie de la clé.\n",
      "\n",
      "             Vous posédé la partie numero 3 de la clé.votre clé est : b'TxFr3Yh53h1WdY='\n",
      "\n",
      "        celle si devra être gardé en sécurité et n'être revelé que si apres une semaine, le clone n'as pas été recuperé. ou si le clone n'as pas été utilisé rendu dans les temps.\n",
      "\n",
      "\n",
      "\n",
      "        Bien cordialement,\n",
      "\n",
      "        L'Organisation du Projet Qbit\n",
      "\n",
      "        \n",
      "normal: dadiferri23@gmail.com\n",
      "        Bonjour Daniel,\n",
      "\n",
      "        J'espère que vous allez bien. Je suis désolé de vous anoncer que vous n'avez pas été sélectionné pour Cloner votre chibre. \n",
      "        ni pour être detenteur d'une partie de la clé.\n",
      "\n",
      "\n",
      "\n",
      "        Bien cordialement,\n",
      "\n",
      "        L'Organisation du Projet Qbit\n",
      "\n",
      "        \n",
      "Data written to winners.txt\n",
      "fin de l'excution du programe\n"
     ]
    },
    {
     "name": "stderr",
     "output_type": "stream",
     "text": [
      "100%|██████████| 24/24 [00:02<00:00,  8.82it/s]"
     ]
    },
    {
     "name": "stdout",
     "output_type": "stream",
     "text": [
      "bast.lacave@gmail.com\n",
      "sujet :Projet - Pour la postérité: winners_encrypted\n",
      "message :voici le fichier encrypté contenant le nom de la personne ayant été choisu pour utiliser la clone, vous pourez le decrypter avec les 3 morceau de la clé , et en executant le programme decode.py qui ce trouve sur le github du projet\n",
      "axel1254@gmail.com\n",
      "sujet :Projet - Pour la postérité: winners_encrypted\n",
      "message :voici le fichier encrypté contenant le nom de la personne ayant été choisu pour utiliser la clone, vous pourez le decrypter avec les 3 morceau de la clé , et en executant le programme decode.py qui ce trouve sur le github du projet\n",
      "mail@ferrer.re\n",
      "sujet :Projet - Pour la postérité: winners_encrypted\n",
      "message :voici le fichier encrypté contenant le nom de la personne ayant été choisu pour utiliser la clone, vous pourez le decrypter avec les 3 morceau de la clé , et en executant le programme decode.py qui ce trouve sur le github du projet\n",
      "kenji@tanaka.ninja\n",
      "sujet :Projet - Pour la postérité: winners_encrypted\n",
      "message :voici le fichier encrypté contenant le nom de la personne ayant été choisu pour utiliser la clone, vous pourez le decrypter avec les 3 morceau de la clé , et en executant le programme decode.py qui ce trouve sur le github du projet\n",
      "giangifolino@gmail.com\n",
      "sujet :Projet - Pour la postérité: winners_encrypted\n",
      "message :voici le fichier encrypté contenant le nom de la personne ayant été choisu pour utiliser la clone, vous pourez le decrypter avec les 3 morceau de la clé , et en executant le programme decode.py qui ce trouve sur le github du projet\n",
      "grosse_teub@hboutin.ch\n",
      "sujet :Projet - Pour la postérité: winners_encrypted\n",
      "message :voici le fichier encrypté contenant le nom de la personne ayant été choisu pour utiliser la clone, vous pourez le decrypter avec les 3 morceau de la clé , et en executant le programme decode.py qui ce trouve sur le github du projet\n",
      "Cecemarques@icloud.com\n",
      "sujet :Projet - Pour la postérité: winners_encrypted\n",
      "message :voici le fichier encrypté contenant le nom de la personne ayant été choisu pour utiliser la clone, vous pourez le decrypter avec les 3 morceau de la clé , et en executant le programme decode.py qui ce trouve sur le github du projet\n",
      "clone.pushover928@passmail.net\n",
      "sujet :Projet - Pour la postérité: winners_encrypted\n",
      "message :voici le fichier encrypté contenant le nom de la personne ayant été choisu pour utiliser la clone, vous pourez le decrypter avec les 3 morceau de la clé , et en executant le programme decode.py qui ce trouve sur le github du projet\n",
      "thomas.moreau.ts@gmail.com\n",
      "sujet :Projet - Pour la postérité: winners_encrypted\n",
      "message :voici le fichier encrypté contenant le nom de la personne ayant été choisu pour utiliser la clone, vous pourez le decrypter avec les 3 morceau de la clé , et en executant le programme decode.py qui ce trouve sur le github du projet\n",
      "Dimitry.deruaz@gmail.com\n",
      "sujet :Projet - Pour la postérité: winners_encrypted\n",
      "message :voici le fichier encrypté contenant le nom de la personne ayant été choisu pour utiliser la clone, vous pourez le decrypter avec les 3 morceau de la clé , et en executant le programme decode.py qui ce trouve sur le github du projet\n",
      "aurelien.balzli@gmail.com\n",
      "sujet :Projet - Pour la postérité: winners_encrypted\n",
      "message :voici le fichier encrypté contenant le nom de la personne ayant été choisu pour utiliser la clone, vous pourez le decrypter avec les 3 morceau de la clé , et en executant le programme decode.py qui ce trouve sur le github du projet\n",
      "drinimarchese@gmail.com\n",
      "sujet :Projet - Pour la postérité: winners_encrypted\n",
      "message :voici le fichier encrypté contenant le nom de la personne ayant été choisu pour utiliser la clone, vous pourez le decrypter avec les 3 morceau de la clé , et en executant le programme decode.py qui ce trouve sur le github du projet\n",
      "Ericbolson7@gmail.com\n",
      "sujet :Projet - Pour la postérité: winners_encrypted\n",
      "message :voici le fichier encrypté contenant le nom de la personne ayant été choisu pour utiliser la clone, vous pourez le decrypter avec les 3 morceau de la clé , et en executant le programme decode.py qui ce trouve sur le github du projet\n",
      "aleemarshad@hotmail.com\n",
      "sujet :Projet - Pour la postérité: winners_encrypted\n",
      "message :voici le fichier encrypté contenant le nom de la personne ayant été choisu pour utiliser la clone, vous pourez le decrypter avec les 3 morceau de la clé , et en executant le programme decode.py qui ce trouve sur le github du projet\n",
      "moretti.theo@gmail.com\n",
      "sujet :Projet - Pour la postérité: winners_encrypted\n",
      "message :voici le fichier encrypté contenant le nom de la personne ayant été choisu pour utiliser la clone, vous pourez le decrypter avec les 3 morceau de la clé , et en executant le programme decode.py qui ce trouve sur le github du projet\n",
      "lukagigli03@gmail.com\n",
      "sujet :Projet - Pour la postérité: winners_encrypted\n",
      "message :voici le fichier encrypté contenant le nom de la personne ayant été choisu pour utiliser la clone, vous pourez le decrypter avec les 3 morceau de la clé , et en executant le programme decode.py qui ce trouve sur le github du projet\n",
      "andres@briones.ch\n",
      "sujet :Projet - Pour la postérité: winners_encrypted\n",
      "message :voici le fichier encrypté contenant le nom de la personne ayant été choisu pour utiliser la clone, vous pourez le decrypter avec les 3 morceau de la clé , et en executant le programme decode.py qui ce trouve sur le github du projet\n",
      "sergejlaub5@gmail.com\n",
      "sujet :Projet - Pour la postérité: winners_encrypted\n",
      "message :voici le fichier encrypté contenant le nom de la personne ayant été choisu pour utiliser la clone, vous pourez le decrypter avec les 3 morceau de la clé , et en executant le programme decode.py qui ce trouve sur le github du projet\n",
      "edward.galantay@gmail.com\n",
      "sujet :Projet - Pour la postérité: winners_encrypted\n",
      "message :voici le fichier encrypté contenant le nom de la personne ayant été choisu pour utiliser la clone, vous pourez le decrypter avec les 3 morceau de la clé , et en executant le programme decode.py qui ce trouve sur le github du projet\n",
      "yanisdegand@gmail.com\n",
      "sujet :Projet - Pour la postérité: winners_encrypted\n",
      "message :voici le fichier encrypté contenant le nom de la personne ayant été choisu pour utiliser la clone, vous pourez le decrypter avec les 3 morceau de la clé , et en executant le programme decode.py qui ce trouve sur le github du projet\n",
      "gsimoesg@gmail.com\n",
      "sujet :Projet - Pour la postérité: winners_encrypted\n",
      "message :voici le fichier encrypté contenant le nom de la personne ayant été choisu pour utiliser la clone, vous pourez le decrypter avec les 3 morceau de la clé , et en executant le programme decode.py qui ce trouve sur le github du projet\n",
      "Lucas.deazevedo@ymail.com\n",
      "sujet :Projet - Pour la postérité: winners_encrypted\n",
      "message :voici le fichier encrypté contenant le nom de la personne ayant été choisu pour utiliser la clone, vous pourez le decrypter avec les 3 morceau de la clé , et en executant le programme decode.py qui ce trouve sur le github du projet\n",
      "bayan_felipin@hotmail.com\n",
      "sujet :Projet - Pour la postérité: winners_encrypted\n",
      "message :voici le fichier encrypté contenant le nom de la personne ayant été choisu pour utiliser la clone, vous pourez le decrypter avec les 3 morceau de la clé , et en executant le programme decode.py qui ce trouve sur le github du projet\n",
      "dadiferri23@gmail.com\n",
      "sujet :Projet - Pour la postérité: winners_encrypted\n",
      "message :voici le fichier encrypté contenant le nom de la personne ayant été choisu pour utiliser la clone, vous pourez le decrypter avec les 3 morceau de la clé , et en executant le programme decode.py qui ce trouve sur le github du projet\n"
     ]
    },
    {
     "name": "stderr",
     "output_type": "stream",
     "text": [
      "\n"
     ]
    }
   ],
   "source": [
    "### A ACTIVé QUE SI TU SAIS CE QUE TU FAIS\n",
    "Final_execution=False # doit être mis a True pour envoyer les emails et SUPPRIMER LE FICHIER CONTENANT LA CLE\n",
    "send=False # doit être mis a True pour envoyer les emails\n",
    "###\n",
    "\n",
    "t=0\n",
    "ieme_key=0\n",
    "ieme_place=0\n",
    "\n",
    "\n",
    "\n",
    "####################################################################################################\n",
    "print(\"debut de l'excution du programe : Final_execution set sur \"+str(Final_execution))\n",
    "\n",
    "if Final_execution==False:\n",
    "    print(\"ATTENTION: Final_execution est sur True, le fichier contenant la clé va être supprimé\")\n",
    "\n",
    "print(\"creation de la clé\")\n",
    "create_key()\n",
    "print(\"clé créée\")\n",
    "print(\"chargement de la clé\")\n",
    "key=load_key()\n",
    "key_list=char_to_3_list(load_key()) # on divise la clé en 3 pour la sécurité\n",
    "\n",
    "if key==key_list[0]+key_list[1]+key_list[2]:\n",
    "    print(\"découpage de la clé effectué avec succès\")\n",
    "else:\n",
    "    raise ValueError(\"Erreur lors du découpage de la clé\")\n",
    "\n",
    "\n",
    "\n",
    "print(\"chargement des emails\")\n",
    "email_list=get_email_list(data_list)\n",
    "print(\"emails chargés\")\n",
    "print(\"tirage au sort\")\n",
    "\n",
    "the_chosen=random.sample(email_list,NB_choisi_pour_clé+NB_choisi_pour_clone)\n",
    "\n",
    "print(\"tirage au sort effectué\")\n",
    "print(\"envoie des emails\")\n",
    "winners=[] \n",
    "\n",
    "for email_adresse in tqdm.tqdm(email_list):\n",
    "    nom=dicto_nom_email[email_adresse]\n",
    "\n",
    "    if email_adresse in the_chosen:\n",
    "        if t<NB_choisi_pour_clone:\n",
    "            #envoie email clone\n",
    "            \n",
    "            if send==True:\n",
    "                envoie_email(email_adresse,sujet, corps(nom,\"clone\"))\n",
    "            else:\n",
    "                print(\"clone: \"+str(email_adresse))\n",
    "                print(corps(nom,\"clone\"))\n",
    "            t=t+1\n",
    "            ieme_place=ieme_place+1\n",
    "            winners.append([nom,email_adresse])\n",
    "            \n",
    "        else:\n",
    "            #envoie email clé\n",
    "            if send==True:\n",
    "                envoie_email(email_adresse,sujet, corps(nom,\"clé\"))\n",
    "            else:\n",
    "                print(\"clé: \"+str(email_adresse))\n",
    "                print(corps(nom,\"clé\"))\n",
    "            ieme_key=ieme_key+1\n",
    "    else:\n",
    "        #envoie email normal\n",
    "        if send==True:\n",
    "            envoie_email(email_adresse,sujet, corps(nom,\"normal\"))\n",
    "        else:\n",
    "            print(\"normal: \"+str(email_adresse))\n",
    "            print(corps(nom,\"normal\"))\n",
    "\n",
    "# Define the file path\n",
    "output_file_path = \"winners.txt\"\n",
    "\n",
    "# Open the file in write mode\n",
    "with open(output_file_path, 'w') as file:\n",
    "    # Write the names and email addresses to the file\n",
    "    for i in range(NB_choisi_pour_clone):\n",
    "  \n",
    "        file.write(f\"{winners[i][0]},{winners[i][1]}\\n\")\n",
    "\n",
    "print(f\"Data written to {output_file_path}\")\n",
    "\n",
    "encrypt_file(output_file_path)\n",
    "\n",
    "if Final_execution==True:\n",
    "    os.remove(\"ma_cle.key\")\n",
    "    os.remove(output_file_path)\n",
    "    print(\"fichiers supprimés\")\n",
    "\n",
    "print(\"fin de l'excution du programe\")\n",
    "\n",
    "#### envoie du fichier encrypter\n",
    "sujet = \"Projet - Pour la postérité: winners_encrypted\"\n",
    "piece_jointe = \"winners_encrypted.txt\"\n",
    "message = \"voici le fichier encrypté contenant le nom de la personne ayant été choisu pour utiliser la clone, vous pourez le decrypter avec les 3 morceau de la clé , et en executant le programme decode.py qui ce trouve sur le github du projet\"\n",
    "\n",
    "z=0\n",
    "for email_adresse in tqdm.tqdm(email_list):\n",
    "\n",
    "    if send==True:\n",
    "        envoie_email_jointe(email_adresse, sujet, message, attachment_path=piece_jointe)\n",
    "    else:\n",
    "        if z==0:\n",
    "            envoie_email_jointe(\"link12541254@gmail.com\", sujet, message, attachment_path=piece_jointe)\n",
    "            z=1\n",
    "        print(str(email_adresse))\n",
    "        print(\"sujet :\"+str(sujet))\n",
    "        print(\"message :\"+str(message))\n",
    "\n",
    "\n",
    "\n",
    "\n",
    "    \n",
    "    \n",
    " \n",
    "      \n",
    "        \n",
    "    \n",
    "\n"
   ]
  },
  {
   "cell_type": "markdown",
   "metadata": {},
   "source": [
    "# script sans biais"
   ]
  },
  {
   "cell_type": "code",
   "execution_count": 30,
   "metadata": {},
   "outputs": [],
   "source": [
    "import random\n",
    "import os\n",
    "import tqdm # for progress bar\n",
    "\n",
    "NB_choisi_pour_clé = 3 # la clé de cryptage est de base coupé en 3. si on veut changer ce nombre il faut changer la fonction char_to_3_list\n",
    "NB_choisi_pour_clone=1\n"
   ]
  },
  {
   "cell_type": "code",
   "execution_count": null,
   "metadata": {},
   "outputs": [],
   "source": []
  },
  {
   "cell_type": "code",
   "execution_count": 31,
   "metadata": {},
   "outputs": [
    {
     "name": "stdout",
     "output_type": "stream",
     "text": [
      "debut de l'excution du programe : Final_execution set sur True\n",
      "creation de la clé\n",
      "clé créée\n",
      "chargement de la clé\n",
      "découpage de la clé effectué avec succès\n",
      "chargement des emails\n",
      "emails chargés\n",
      "tirage au sort\n",
      "tirage au sort effectué\n",
      "envoie des emails\n"
     ]
    },
    {
     "name": "stderr",
     "output_type": "stream",
     "text": [
      "  0%|          | 0/24 [00:00<?, ?it/s]"
     ]
    },
    {
     "name": "stderr",
     "output_type": "stream",
     "text": [
      "  4%|▍         | 1/24 [00:01<00:36,  1.57s/it]"
     ]
    },
    {
     "name": "stdout",
     "output_type": "stream",
     "text": [
      "boucle effectuée, interator :1\n"
     ]
    },
    {
     "name": "stderr",
     "output_type": "stream",
     "text": [
      "  8%|▊         | 2/24 [00:03<00:33,  1.54s/it]"
     ]
    },
    {
     "name": "stdout",
     "output_type": "stream",
     "text": [
      "boucle effectuée, interator :2\n"
     ]
    },
    {
     "name": "stderr",
     "output_type": "stream",
     "text": [
      " 12%|█▎        | 3/24 [00:04<00:33,  1.57s/it]"
     ]
    },
    {
     "name": "stdout",
     "output_type": "stream",
     "text": [
      "boucle effectuée, interator :3\n"
     ]
    },
    {
     "name": "stderr",
     "output_type": "stream",
     "text": [
      " 17%|█▋        | 4/24 [00:06<00:31,  1.58s/it]"
     ]
    },
    {
     "name": "stdout",
     "output_type": "stream",
     "text": [
      "boucle effectuée, interator :4\n"
     ]
    },
    {
     "name": "stderr",
     "output_type": "stream",
     "text": [
      " 21%|██        | 5/24 [00:07<00:29,  1.55s/it]"
     ]
    },
    {
     "name": "stdout",
     "output_type": "stream",
     "text": [
      "boucle effectuée, interator :5\n"
     ]
    },
    {
     "name": "stderr",
     "output_type": "stream",
     "text": [
      " 25%|██▌       | 6/24 [00:09<00:28,  1.57s/it]"
     ]
    },
    {
     "name": "stdout",
     "output_type": "stream",
     "text": [
      "boucle effectuée, interator :6\n"
     ]
    },
    {
     "name": "stderr",
     "output_type": "stream",
     "text": [
      " 29%|██▉       | 7/24 [00:11<00:27,  1.65s/it]"
     ]
    },
    {
     "name": "stdout",
     "output_type": "stream",
     "text": [
      "boucle effectuée, interator :7\n"
     ]
    },
    {
     "name": "stderr",
     "output_type": "stream",
     "text": [
      " 33%|███▎      | 8/24 [00:12<00:26,  1.65s/it]"
     ]
    },
    {
     "name": "stdout",
     "output_type": "stream",
     "text": [
      "boucle effectuée, interator :8\n"
     ]
    },
    {
     "name": "stderr",
     "output_type": "stream",
     "text": [
      " 38%|███▊      | 9/24 [00:14<00:24,  1.63s/it]"
     ]
    },
    {
     "name": "stdout",
     "output_type": "stream",
     "text": [
      "boucle effectuée, interator :9\n"
     ]
    },
    {
     "name": "stderr",
     "output_type": "stream",
     "text": [
      " 42%|████▏     | 10/24 [00:16<00:22,  1.62s/it]"
     ]
    },
    {
     "name": "stdout",
     "output_type": "stream",
     "text": [
      "boucle effectuée, interator :10\n"
     ]
    },
    {
     "name": "stderr",
     "output_type": "stream",
     "text": [
      " 46%|████▌     | 11/24 [00:17<00:20,  1.59s/it]"
     ]
    },
    {
     "name": "stdout",
     "output_type": "stream",
     "text": [
      "boucle effectuée, interator :11\n"
     ]
    },
    {
     "name": "stderr",
     "output_type": "stream",
     "text": [
      " 50%|█████     | 12/24 [00:19<00:19,  1.59s/it]"
     ]
    },
    {
     "name": "stdout",
     "output_type": "stream",
     "text": [
      "boucle effectuée, interator :12\n"
     ]
    },
    {
     "name": "stderr",
     "output_type": "stream",
     "text": [
      " 54%|█████▍    | 13/24 [00:20<00:17,  1.59s/it]"
     ]
    },
    {
     "name": "stdout",
     "output_type": "stream",
     "text": [
      "boucle effectuée, interator :13\n"
     ]
    },
    {
     "name": "stderr",
     "output_type": "stream",
     "text": [
      " 58%|█████▊    | 14/24 [00:22<00:15,  1.58s/it]"
     ]
    },
    {
     "name": "stdout",
     "output_type": "stream",
     "text": [
      "boucle effectuée, interator :14\n"
     ]
    },
    {
     "name": "stderr",
     "output_type": "stream",
     "text": [
      " 62%|██████▎   | 15/24 [00:23<00:14,  1.58s/it]"
     ]
    },
    {
     "name": "stdout",
     "output_type": "stream",
     "text": [
      "boucle effectuée, interator :15\n"
     ]
    },
    {
     "name": "stderr",
     "output_type": "stream",
     "text": [
      " 67%|██████▋   | 16/24 [00:25<00:12,  1.58s/it]"
     ]
    },
    {
     "name": "stdout",
     "output_type": "stream",
     "text": [
      "boucle effectuée, interator :16\n"
     ]
    },
    {
     "name": "stderr",
     "output_type": "stream",
     "text": [
      " 71%|███████   | 17/24 [00:27<00:11,  1.58s/it]"
     ]
    },
    {
     "name": "stdout",
     "output_type": "stream",
     "text": [
      "boucle effectuée, interator :17\n"
     ]
    },
    {
     "name": "stderr",
     "output_type": "stream",
     "text": [
      " 75%|███████▌  | 18/24 [00:28<00:09,  1.58s/it]"
     ]
    },
    {
     "name": "stdout",
     "output_type": "stream",
     "text": [
      "boucle effectuée, interator :18\n"
     ]
    },
    {
     "name": "stderr",
     "output_type": "stream",
     "text": [
      " 79%|███████▉  | 19/24 [00:30<00:07,  1.58s/it]"
     ]
    },
    {
     "name": "stdout",
     "output_type": "stream",
     "text": [
      "boucle effectuée, interator :19\n"
     ]
    },
    {
     "name": "stderr",
     "output_type": "stream",
     "text": [
      " 83%|████████▎ | 20/24 [00:31<00:06,  1.59s/it]"
     ]
    },
    {
     "name": "stdout",
     "output_type": "stream",
     "text": [
      "boucle effectuée, interator :20\n"
     ]
    },
    {
     "name": "stderr",
     "output_type": "stream",
     "text": [
      " 88%|████████▊ | 21/24 [00:33<00:04,  1.58s/it]"
     ]
    },
    {
     "name": "stdout",
     "output_type": "stream",
     "text": [
      "boucle effectuée, interator :21\n"
     ]
    },
    {
     "name": "stderr",
     "output_type": "stream",
     "text": [
      " 92%|█████████▏| 22/24 [00:34<00:03,  1.57s/it]"
     ]
    },
    {
     "name": "stdout",
     "output_type": "stream",
     "text": [
      "boucle effectuée, interator :22\n"
     ]
    },
    {
     "name": "stderr",
     "output_type": "stream",
     "text": [
      " 96%|█████████▌| 23/24 [00:36<00:01,  1.58s/it]"
     ]
    },
    {
     "name": "stdout",
     "output_type": "stream",
     "text": [
      "boucle effectuée, interator :23\n"
     ]
    },
    {
     "name": "stderr",
     "output_type": "stream",
     "text": [
      "100%|██████████| 24/24 [00:38<00:00,  1.59s/it]"
     ]
    },
    {
     "name": "stdout",
     "output_type": "stream",
     "text": [
      "boucle effectuée, interator :24\n",
      "Data written to winners.txt\n",
      "fichiers supprimés\n",
      "fin de l'excution du programe\n"
     ]
    },
    {
     "name": "stderr",
     "output_type": "stream",
     "text": [
      "\n"
     ]
    }
   ],
   "source": [
    "### envoie sans biais\n",
    "\n",
    "### A ACTIVé QUE SI TU SAIS CE QUE TU FAIS\n",
    "Final_execution=True # doit être mis a True pour envoyer les emails et SUPPRIMER LE FICHIER CONTENANT LA CLE\n",
    "send=True # doit être mis a True pour envoyer les emails\n",
    "###\n",
    "sujet = \"Projet - Pour la postérité: tirage au sort\"\n",
    "t=0\n",
    "ieme_key=0\n",
    "ieme_place=0\n",
    "\n",
    "\n",
    "\n",
    "####################################################################################################\n",
    "print(\"debut de l'excution du programe : Final_execution set sur \"+str(Final_execution))\n",
    "\n",
    "if Final_execution==False:\n",
    "    print(\"ATTENTION: Final_execution est sur True, le fichier contenant la clé va être supprimé\")\n",
    "\n",
    "print(\"creation de la clé\")\n",
    "create_key()\n",
    "print(\"clé créée\")\n",
    "print(\"chargement de la clé\")\n",
    "key=load_key()\n",
    "key_list=char_to_3_list(load_key()) # on divise la clé en 3 pour la sécurité\n",
    "\n",
    "if key==key_list[0]+key_list[1]+key_list[2]:\n",
    "    print(\"découpage de la clé effectué avec succès\")\n",
    "else:\n",
    "    raise ValueError(\"Erreur lors du découpage de la clé\")\n",
    "\n",
    "\n",
    "\n",
    "print(\"chargement des emails\")\n",
    "email_list=get_email_list(data_list)\n",
    "print(\"emails chargés\")\n",
    "print(\"tirage au sort\")\n",
    "\n",
    "#randomisation de la liste des email\n",
    "\n",
    "random.shuffle(email_list)\n",
    "print(\"tirage au sort effectué\")\n",
    "print(\"envoie des emails\")\n",
    "winners=[] \n",
    "interator=0\n",
    "\n",
    "\n",
    "\n",
    "for email_adresse in tqdm.tqdm(email_list):\n",
    "    nom=dicto_nom_email[email_adresse]\n",
    "\n",
    "\n",
    "\n",
    "\n",
    "    if interator<NB_choisi_pour_clone:\n",
    "        #envoie email clone\n",
    "\n",
    "        if send==True:\n",
    "            envoie_email(email_adresse,sujet, corps(nom,\"clone\"))\n",
    "        else:\n",
    "            print(\"clone: \"+str(email_adresse))\n",
    "            print(corps(nom,\"clone\"))\n",
    "        \n",
    "        winners.append([nom,email_adresse])\n",
    "        ieme_place=ieme_place+1\n",
    "    elif NB_choisi_pour_clone<=interator<NB_choisi_pour_clé+NB_choisi_pour_clone:\n",
    "\n",
    "        #envoie email clé\n",
    "        if send==True:\n",
    "            envoie_email(email_adresse,sujet, corps(nom,\"clé\"))\n",
    "        else:\n",
    "            print(\"clé: \"+str(email_adresse))\n",
    "            print(corps(nom,\"clé\"))\n",
    "        ieme_key=ieme_key+1\n",
    "    else:\n",
    "        #envoie email normal\n",
    "        if send==True:\n",
    "            envoie_email(email_adresse,sujet, corps(nom,\"normal\"))\n",
    "        else:\n",
    "            print(\"normal: \"+str(email_adresse))\n",
    "            print(corps(nom,\"normal\"))\n",
    "\n",
    "    interator=interator+1\n",
    "    print(\"boucle effectuée, interator :\"+str(interator))\n",
    "\n",
    "    \n",
    "\n",
    "# Define the file path\n",
    "output_file_path = \"winners.txt\"\n",
    "\n",
    "# Open the file in write mode\n",
    "with open(output_file_path, 'w') as file:\n",
    "    # Write the names and email addresses to the file\n",
    "    for i in range(NB_choisi_pour_clone):\n",
    "  \n",
    "        file.write(f\"{winners[i][0]},{winners[i][1]}\\n\")\n",
    "\n",
    "print(f\"Data written to {output_file_path}\")\n",
    "\n",
    "encrypt_file(output_file_path)\n",
    "\n",
    "if Final_execution==True:\n",
    "    os.remove(\"ma_cle.key\")\n",
    "    os.remove(output_file_path)\n",
    "    print(\"fichiers supprimés\")\n",
    "\n",
    "print(\"fin de l'excution du programe\")\n",
    "\n",
    "\n",
    "email_list=[\"le code est fini\"]\n",
    "\n",
    "\n",
    "    \n",
    "    \n",
    " \n",
    "      \n",
    "        \n",
    "    \n",
    "\n"
   ]
  },
  {
   "cell_type": "code",
   "execution_count": 27,
   "metadata": {},
   "outputs": [],
   "source": [
    "envoie_email(\"link12541254@gmail.com\",sujet, corps(nom,\"normal\"))"
   ]
  },
  {
   "cell_type": "code",
   "execution_count": null,
   "metadata": {},
   "outputs": [
    {
     "name": "stdout",
     "output_type": "stream",
     "text": [
      "{'Bastien ': 0, 'axel': 0, 'Sebastian': 0, 'Kenji': 0, 'Gianluca': 0, 'hugo': 0, 'Cedric ': 0, 'Stefano': 0, 'thomas': 0, 'Dimitry ': 0, 'Aurelien': 0, 'Drini': 0, 'Eric': 0, 'aleem': 0, 'Theo': 0, 'Luka': 0, 'Andres': 0, 'Sergej': 0, 'Karl': 0, 'Yanis': 0, 'Gabriel': 0, 'Lucas ': 0, 'Brayan': 0, 'Daniel': 0}\n"
     ]
    }
   ],
   "source": [
    "import csv\n",
    "\n",
    "def initialize_dict_from_csv(file_path):\n",
    "    dico_compteur = {}\n",
    "    with open(file_path, mode='r', newline='') as file:\n",
    "        csv_reader = csv.reader(file)\n",
    "        next(csv_reader)  # Skip the header row\n",
    "        for row in csv_reader:\n",
    "            nom = row[1]  # Assuming the second column contains the names\n",
    "            dico_compteur[nom] = 0\n",
    "    return dico_compteur\n",
    "\n",
    "# Example usage\n",
    "file_path = 'Formulaire sans titre (réponses) - Réponses au formulaire 1.csv'\n",
    "dico_compteur = initialize_dict_from_csv(file_path)\n",
    "print(dico_compteur)\n"
   ]
  },
  {
   "cell_type": "code",
   "execution_count": null,
   "metadata": {},
   "outputs": [],
   "source": []
  },
  {
   "cell_type": "markdown",
   "metadata": {},
   "source": [
    "# data test"
   ]
  },
  {
   "cell_type": "code",
   "execution_count": null,
   "metadata": {},
   "outputs": [
    {
     "name": "stderr",
     "output_type": "stream",
     "text": [
      "  0%|          | 2575/1000000 [00:05<38:12, 435.03it/s]\n"
     ]
    },
    {
     "ename": "KeyboardInterrupt",
     "evalue": "",
     "output_type": "error",
     "traceback": [
      "\u001b[1;31m---------------------------------------------------------------------------\u001b[0m",
      "\u001b[1;31mKeyboardInterrupt\u001b[0m                         Traceback (most recent call last)",
      "Cell \u001b[1;32mIn[33], line 24\u001b[0m\n\u001b[0;32m     21\u001b[0m create_key()\n\u001b[0;32m     22\u001b[0m \u001b[38;5;66;03m#print(\"clé créée\")\u001b[39;00m\n\u001b[0;32m     23\u001b[0m \u001b[38;5;66;03m#print(\"chargement de la clé\")\u001b[39;00m\n\u001b[1;32m---> 24\u001b[0m key\u001b[38;5;241m=\u001b[39m\u001b[43mload_key\u001b[49m\u001b[43m(\u001b[49m\u001b[43m)\u001b[49m\n\u001b[0;32m     25\u001b[0m key_list\u001b[38;5;241m=\u001b[39mchar_to_3_list(load_key()) \u001b[38;5;66;03m# on divise la clé en 3 pour la sécurité\u001b[39;00m\n\u001b[0;32m     27\u001b[0m \u001b[38;5;66;03m#if key==key_list[0]+key_list[1]+key_list[2]:\u001b[39;00m\n\u001b[0;32m     28\u001b[0m     \u001b[38;5;66;03m#print(\"découpage de la clé effectué avec succès\")\u001b[39;00m\n\u001b[0;32m     29\u001b[0m \u001b[38;5;66;03m#else:\u001b[39;00m\n\u001b[1;32m   (...)\u001b[0m\n\u001b[0;32m     33\u001b[0m \n\u001b[0;32m     34\u001b[0m \u001b[38;5;66;03m#print(\"chargement des emails\")\u001b[39;00m\n",
      "Cell \u001b[1;32mIn[11], line 9\u001b[0m, in \u001b[0;36mload_key\u001b[1;34m()\u001b[0m\n\u001b[0;32m      8\u001b[0m \u001b[38;5;28;01mdef\u001b[39;00m \u001b[38;5;21mload_key\u001b[39m():\n\u001b[1;32m----> 9\u001b[0m     \u001b[38;5;28;01mreturn\u001b[39;00m \u001b[38;5;28;43mopen\u001b[39;49m\u001b[43m(\u001b[49m\u001b[38;5;124;43m\"\u001b[39;49m\u001b[38;5;124;43mma_cle.key\u001b[39;49m\u001b[38;5;124;43m\"\u001b[39;49m\u001b[43m,\u001b[49m\u001b[43m \u001b[49m\u001b[38;5;124;43m\"\u001b[39;49m\u001b[38;5;124;43mrb\u001b[39;49m\u001b[38;5;124;43m\"\u001b[39;49m\u001b[43m)\u001b[49m\u001b[38;5;241m.\u001b[39mread()\n",
      "File \u001b[1;32m~\\AppData\\Roaming\\Python\\Python310\\site-packages\\IPython\\core\\interactiveshell.py:324\u001b[0m, in \u001b[0;36m_modified_open\u001b[1;34m(file, *args, **kwargs)\u001b[0m\n\u001b[0;32m    317\u001b[0m \u001b[38;5;28;01mif\u001b[39;00m file \u001b[38;5;129;01min\u001b[39;00m {\u001b[38;5;241m0\u001b[39m, \u001b[38;5;241m1\u001b[39m, \u001b[38;5;241m2\u001b[39m}:\n\u001b[0;32m    318\u001b[0m     \u001b[38;5;28;01mraise\u001b[39;00m \u001b[38;5;167;01mValueError\u001b[39;00m(\n\u001b[0;32m    319\u001b[0m         \u001b[38;5;124mf\u001b[39m\u001b[38;5;124m\"\u001b[39m\u001b[38;5;124mIPython won\u001b[39m\u001b[38;5;124m'\u001b[39m\u001b[38;5;124mt let you open fd=\u001b[39m\u001b[38;5;132;01m{\u001b[39;00mfile\u001b[38;5;132;01m}\u001b[39;00m\u001b[38;5;124m by default \u001b[39m\u001b[38;5;124m\"\u001b[39m\n\u001b[0;32m    320\u001b[0m         \u001b[38;5;124m\"\u001b[39m\u001b[38;5;124mas it is likely to crash IPython. If you know what you are doing, \u001b[39m\u001b[38;5;124m\"\u001b[39m\n\u001b[0;32m    321\u001b[0m         \u001b[38;5;124m\"\u001b[39m\u001b[38;5;124myou can use builtins\u001b[39m\u001b[38;5;124m'\u001b[39m\u001b[38;5;124m open.\u001b[39m\u001b[38;5;124m\"\u001b[39m\n\u001b[0;32m    322\u001b[0m     )\n\u001b[1;32m--> 324\u001b[0m \u001b[38;5;28;01mreturn\u001b[39;00m io_open(file, \u001b[38;5;241m*\u001b[39margs, \u001b[38;5;241m*\u001b[39m\u001b[38;5;241m*\u001b[39mkwargs)\n",
      "\u001b[1;31mKeyboardInterrupt\u001b[0m: "
     ]
    }
   ],
   "source": [
    "\n",
    "\n",
    "\n",
    "for k in tqdm.tqdm(range(1000000)):\n",
    "        ### envoie sans biais\n",
    "\n",
    "    ### A ACTIVé QUE SI TU SAIS CE QUE TU FAIS\n",
    "    Final_execution=False # doit être mis a True pour envoyer les emails et SUPPRIMER LE FICHIER CONTENANT LA CLE\n",
    "    send=False # doit être mis a True pour envoyer les emails\n",
    "    ###\n",
    "\n",
    "    t=0\n",
    "    ieme_key=0\n",
    "    ieme_place=0\n",
    "\n",
    "\n",
    "\n",
    "    ####################################################################################################\n",
    "    #print(\"debut de l'excution du programe : Final_execution set sur \"+str(Final_execution))\n",
    "\n",
    " \n",
    "\n",
    "    #print(\"creation de la clé\")\n",
    "    create_key()\n",
    "    #print(\"clé créée\")\n",
    "    #print(\"chargement de la clé\")\n",
    "    key=load_key()\n",
    "    key_list=char_to_3_list(load_key()) # on divise la clé en 3 pour la sécurité\n",
    "\n",
    "    #if key==key_list[0]+key_list[1]+key_list[2]:\n",
    "        #print(\"découpage de la clé effectué avec succès\")\n",
    "    #else:\n",
    "        #raise ValueError(\"Erreur lors du découpage de la clé\")\n",
    "\n",
    "\n",
    "\n",
    "    #print(\"chargement des emails\")\n",
    "    email_list=get_email_list(data_list)\n",
    "    #print(\"emails chargés\")\n",
    "    #print(\"tirage au sort\")\n",
    "\n",
    "    #randomisation de la liste des email\n",
    "\n",
    "    random.shuffle(email_list)\n",
    "    #print(\"tirage au sort effectué\")\n",
    "    #print(\"envoie des emails\")\n",
    "    winners=[] \n",
    "    interator=0\n",
    "\n",
    "\n",
    "\n",
    "    for email_adresse in email_list:\n",
    "        nom=dicto_nom_email[email_adresse]\n",
    "\n",
    "\n",
    "\n",
    "\n",
    "        if interator<NB_choisi_pour_clone:\n",
    "            #envoie email clone\n",
    "\n",
    "            if send==True:\n",
    "                envoie_email(email_adresse,sujet, corps(nom,\"clone\"))\n",
    "            else:\n",
    "                a=5\n",
    "                #print(\"clone: \"+str(email_adresse))\n",
    "                #print(corps(nom,\"clone\"))\n",
    "            \n",
    "            winners.append([nom,email_adresse])\n",
    "        elif NB_choisi_pour_clone<=interator<NB_choisi_pour_clé+NB_choisi_pour_clone:\n",
    "\n",
    "            #envoie email clé\n",
    "            if send==True:\n",
    "                envoie_email(email_adresse,sujet, corps(nom,\"clé\"))\n",
    "            else:\n",
    "                a=5\n",
    "                #print(\"clé: \"+str(email_adresse))\n",
    "                #print(corps(nom,\"clé\"))\n",
    "        else:\n",
    "            #envoie email normal\n",
    "            if send==True:\n",
    "                envoie_email(email_adresse,sujet, corps(nom,\"normal\"))\n",
    "            else:\n",
    "                a=5\n",
    "                #print(\"normal: \"+str(email_adresse))\n",
    "                #print(corps(nom,\"normal\"))\n",
    "\n",
    "        interator=interator+1\n",
    "        #print(\"boucle effectuée, interator :\"+str(interator))\n",
    "\n",
    "        \n",
    "\n",
    "    # Define the file path\n",
    "    output_file_path = \"winners.txt\"\n",
    "\n",
    "    # Open the file in write mode\n",
    "    with open(output_file_path, 'w') as file:\n",
    "        # Write the names and email addresses to the file\n",
    "        for i in range(NB_choisi_pour_clone):\n",
    "    \n",
    "            file.write(f\"{winners[i][0]},{winners[i][1]}\\n\")\n",
    "\n",
    "    #print(f\"Data written to {output_file_path}\")\n",
    "\n",
    "    encrypt_file(output_file_path)\n",
    "\n",
    "    if Final_execution==True:\n",
    "        os.remove(\"ma_cle.key\")\n",
    "        os.remove(output_file_path)\n",
    "        print(\"fichiers supprimés\")\n",
    "\n",
    "    #print(\"fin de l'excution du programe\")\n",
    "    file_path = 'winners.txt'\n",
    "\n",
    "    with open(file_path, mode='r', newline='') as file:\n",
    "        csv_reader = csv.reader(file)\n",
    "        first_row = next(csv_reader)\n",
    "        first_cell = first_row[0]\n",
    "    dico_compteur[str(first_cell)]=dico_compteur[str(first_cell)]+1\n",
    "\n",
    "\n",
    "\n",
    "\n",
    "\n",
    "  \n",
    "        \n",
    "    \n",
    "        \n",
    "            \n",
    "        \n",
    "\n"
   ]
  },
  {
   "cell_type": "code",
   "execution_count": null,
   "metadata": {},
   "outputs": [
    {
     "data": {
      "image/png": "[encoded data removed]",
      "text/plain": [
       "<Figure size 1000x600 with 1 Axes>"
      ]
     },
     "metadata": {},
     "output_type": "display_data"
    }
   ],
   "source": [
    "import matplotlib.pyplot as plt\n",
    "\n",
    "# Extraire les noms et les valeurs du dictionnaire\n",
    "noms = list(dico_compteur.keys())\n",
    "valeurs = list(dico_compteur.values())\n",
    "\n",
    "# Créer l'histogramme\n",
    "plt.figure(figsize=(10, 6))\n",
    "plt.bar(noms, valeurs, color='skyblue')\n",
    "plt.xlabel('Noms')\n",
    "plt.ylabel('Valeurs')\n",
    "plt.title('Histogramme des valeurs du dictionnaire')\n",
    "plt.xticks(rotation=90)\n",
    "plt.tight_layout()\n",
    "plt.show()"
   ]
  }
 ],
 "metadata": {
  "kernelspec": {
   "display_name": "Python 3",
   "language": "python",
   "name": "python3"
  },
  "language_info": {
   "codemirror_mode": {
    "name": "ipython",
    "version": 3
   },
   "file_extension": ".py",
   "mimetype": "text/x-python",
   "name": "python",
   "nbconvert_exporter": "python",
   "pygments_lexer": "ipython3",
   "version": "3.12.2"
  }
 },
 "nbformat": 4,
 "nbformat_minor": 2
}
