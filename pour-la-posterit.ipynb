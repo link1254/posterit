{
 "cells": [
  {
   "cell_type": "markdown",
   "metadata": {},
   "source": [
    "# projet pour la posterité"
   ]
  },
  {
   "cell_type": "markdown",
   "metadata": {},
   "source": [
    "#### ce projet a pour but d'envoyer un mail au personne participant au projet \" pour la posterité\" ou aussi appelé \"Qbit\". le but du projet est d'envoyé un mail a chaque personne participantes, et de leur dire si ils sont selectionner ou non. ensuite le programme ficher le nom de la personne selectionnée et envera la clé de chiffrement a 3 personne au hassard. dans le but d'avoir le nom de la personne si jamais elle venait a ne pas remplire son devoir"
   ]
  },
  {
   "cell_type": "markdown",
   "metadata": {},
   "source": [
    "## architecture du projet :"
   ]
  },
  {
   "cell_type": "markdown",
   "metadata": {},
   "source": [
    "###\n",
    "- envoie de mail\n",
    "- recuperation des nom et tirage au sort\n",
    "- chffremment d'un fichier\n",
    "- tout"
   ]
  },
  {
   "cell_type": "markdown",
   "metadata": {},
   "source": [
    "### email"
   ]
  },
  {
   "cell_type": "markdown",
   "metadata": {},
   "source": [
    "truc gmail\n"
   ]
  },
  {
   "cell_type": "markdown",
   "metadata": {},
   "source": []
  },
  {
   "cell_type": "markdown",
   "metadata": {},
   "source": []
  },
  {
   "cell_type": "markdown",
   "metadata": {},
   "source": []
  },
  {
   "cell_type": "code",
   "execution_count": null,
   "metadata": {
    "vscode": {
     "languageId": "ruby"
    }
   },
   "outputs": [],
   "source": []
  },
  {
   "cell_type": "code",
   "execution_count": 50,
   "metadata": {},
   "outputs": [],
   "source": [
    "from email.message import EmailMessage # for creating email\n",
    "import smtplib # for sending email\n",
    "import ssl # for secure connection\n"
   ]
  },
  {
   "cell_type": "code",
   "execution_count": 51,
   "metadata": {},
   "outputs": [],
   "source": [
    "destinataire = \"link12541254@gmail.com\"\n",
    "sujet = \"Projet - Pour la postérité: tirage au sort\"\n",
    "message = \"Ceci est un test 2\"\n",
    "\n",
    "def envoie_email(destinataire,sujet, message):\n",
    "    expediteur = \"qbit1254@gmail.com\"\n",
    "    mot_de_passe = \"ychh qadg dehb xuxu\" \n",
    "    em = EmailMessage()\n",
    "    em['From'] = expediteur\n",
    "    em['To'] = destinataire\n",
    "    em['Subject'] = sujet\n",
    "    em.set_content(message)\n",
    "\n",
    "    context = ssl.create_default_context()\n",
    "    with smtplib.SMTP_SSL(\"smtp.gmail.com\", 465, context=context) as smtp:\n",
    "        smtp.login(expediteur, mot_de_passe)\n",
    "        smtp.sendmail(expediteur, destinataire, em.as_string()) \n",
    "    \n",
    "    "
   ]
  },
  {
   "cell_type": "code",
   "execution_count": 52,
   "metadata": {},
   "outputs": [],
   "source": [
    "file_path = r\"C:\\Users\\Axel\\OneDrive - unige.ch\\0moi\\0\\emplacement.txt\"\n",
    "\n",
    "with open(file_path, 'r') as file:\n",
    "    rows = file.readlines()\n",
    "\n",
    "# Remove any trailing newline characters\n",
    "placements = [row.strip() for row in rows]\n",
    "\n"
   ]
  },
  {
   "cell_type": "code",
   "execution_count": 53,
   "metadata": {},
   "outputs": [
    {
     "data": {
      "text/plain": [
       "['premier emplacement', 'second emplacement', 'troiseieme emplacement']"
      ]
     },
     "execution_count": 53,
     "metadata": {},
     "output_type": "execute_result"
    }
   ],
   "source": [
    "placements"
   ]
  },
  {
   "cell_type": "code",
   "execution_count": 54,
   "metadata": {},
   "outputs": [],
   "source": [
    "key=\"123\"\n",
    "key_list=[1,2,3]\n",
    "ieme_key=0\n",
    "ieme_place=0\n",
    "def corps(nom, tag):\n",
    "    if not tag in [\"clone\",\"clé\",\"normal\"]:\n",
    "        raise ValueError(\"Tag inconnu\")\n",
    "    \n",
    "\n",
    "\n",
    "    if tag == \"normal\":\n",
    "        return f\"\"\"\\\n",
    "        Bonjour {nom},\n",
    "\n",
    "        J'espère que vous allez bien. Je suis désolé de vous anoncer que vous n'avez pas été sélectionné pour Cloner votre chibre. \n",
    "        ni pour être detenteur d'une partie de la clé.\n",
    "\n",
    "\n",
    "\n",
    "        Bien cordialement,\n",
    "\n",
    "        L'Organisation du Projet Qbit\n",
    "\n",
    "        \"\"\"\n",
    "    \n",
    "    if tag == \"clé\":\n",
    "        return f\"\"\"\\\n",
    "        Bonjour {nom},\n",
    "\n",
    "        J'espère que vous allez bien. Je suis désolé de vous anoncer que vous n'avez pas été sélectionné pour Cloner votre chibre. \n",
    "        MAIS pour être detenteur d'une partie de la clé.\n",
    "\n",
    "             Vous posédé la partie numero {ieme_key+1} de la clé.votre clé est : {key_list[ieme_key]}\n",
    "\n",
    "        celle si devra être gardé en sécurité et n'être revelé que si apres une semaine, le clone n'as pas été recuperé. ou si le clone n'as pas été utilisé rendu dans les temps.\n",
    "\n",
    "\n",
    "\n",
    "        Bien cordialement,\n",
    "\n",
    "        L'Organisation du Projet Qbit\n",
    "\n",
    "        \"\"\"\n",
    "    \n",
    "    if tag == \"clone\":\n",
    "        return f\"\"\"\\\n",
    "        Bonjour {nom},\n",
    "\n",
    "        J'espère que vous allez bien. Je suis heureux de vous anoncer que vous AVEZ  été sélectionné pour Cloner votre chibre.\n",
    "\n",
    "        Nous nous rejouissons de jouer avec :)\n",
    "\n",
    "        en attendant il faut que vous ayez le chercher dans un delais de UNE SEMAINE a l'adresse suivante : \n",
    "\n",
    "            -{placements[ieme_place]}\n",
    "\n",
    "         si le packet n'est pas recuperer d'ici là, votre identité sera revelé a tous les participants.\n",
    "         idem dans le cas ou vous ne rendez pas le clone dans les temps.\n",
    "\n",
    "\n",
    "        \n",
    "\n",
    "\n",
    "\n",
    "        Bien cordialement et bon courage,\n",
    "\n",
    "        L'Organisation du Projet Qbit\n",
    "\n",
    "        P.S. Si vous avez besoin d'aide pour le moulage: fgirl.ch\n",
    "\n",
    "        \"\"\""
   ]
  },
  {
   "cell_type": "code",
   "execution_count": 55,
   "metadata": {},
   "outputs": [
    {
     "data": {
      "text/plain": [
       "'1'"
      ]
     },
     "execution_count": 55,
     "metadata": {},
     "output_type": "execute_result"
    }
   ],
   "source": [
    "key[0]"
   ]
  },
  {
   "cell_type": "code",
   "execution_count": 56,
   "metadata": {},
   "outputs": [
    {
     "data": {
      "text/plain": [
       "'123'"
      ]
     },
     "execution_count": 56,
     "metadata": {},
     "output_type": "execute_result"
    }
   ],
   "source": [
    "key"
   ]
  },
  {
   "cell_type": "code",
   "execution_count": 57,
   "metadata": {},
   "outputs": [
    {
     "data": {
      "text/plain": [
       "\"        Bonjour bob,\\n\\n        J'espère que vous allez bien. Je suis désolé de vous anoncer que vous n'avez pas été sélectionné pour Cloner votre chibre. \\n        MAIS pour être detenteur d'une partie de la clé.\\n\\n             Vous posédé la partie numero 3 de la clé.votre clé est : 3\\n\\n        celle si devra être gardé en sécurité et n'être revelé que si apres une semaine, le clone n'as pas été recuperé. ou si le clone n'as pas été utilisé rendu dans les temps.\\n\\n\\n\\n        Bien cordialement,\\n\\n        L'Organisation du Projet Qbit\\n\\n        \""
      ]
     },
     "execution_count": 57,
     "metadata": {},
     "output_type": "execute_result"
    }
   ],
   "source": [
    "ieme_key=2\n",
    "corps(\"bob\",\"clé\")"
   ]
  },
  {
   "cell_type": "code",
   "execution_count": 58,
   "metadata": {},
   "outputs": [],
   "source": [
    "#envoie_email(destinataire,sujet, corps(\"bob\",\"clone\"))"
   ]
  },
  {
   "cell_type": "code",
   "execution_count": 59,
   "metadata": {},
   "outputs": [],
   "source": [
    "#envoie_email(\"axel.grand@etu.unige.ch\",sujet, message)"
   ]
  },
  {
   "cell_type": "markdown",
   "metadata": {},
   "source": []
  },
  {
   "cell_type": "markdown",
   "metadata": {},
   "source": [
    "## mail normal"
   ]
  },
  {
   "cell_type": "code",
   "execution_count": 60,
   "metadata": {},
   "outputs": [],
   "source": [
    "\n",
    "message = \"Ceci est un test 2\""
   ]
  },
  {
   "cell_type": "markdown",
   "metadata": {},
   "source": [
    "## mail clé"
   ]
  },
  {
   "cell_type": "markdown",
   "metadata": {},
   "source": [
    "## mail choisi clone"
   ]
  },
  {
   "cell_type": "code",
   "execution_count": null,
   "metadata": {},
   "outputs": [],
   "source": []
  },
  {
   "cell_type": "markdown",
   "metadata": {},
   "source": [
    "# cryptage"
   ]
  },
  {
   "cell_type": "markdown",
   "metadata": {},
   "source": [
    "## clé : creation de la clé"
   ]
  },
  {
   "cell_type": "code",
   "execution_count": 61,
   "metadata": {},
   "outputs": [
    {
     "name": "stdout",
     "output_type": "stream",
     "text": [
      "Clé générée et sauvegardée dans ma_cle.key\n"
     ]
    }
   ],
   "source": [
    "from cryptography.fernet import Fernet\n",
    "\n",
    "def generate_key_and_save(filename_key: str):\n",
    "    \"\"\"\n",
    "    Génère une clé Fernet et la sauvegarde dans un fichier binaire.\n",
    "    \"\"\"\n",
    "    key = Fernet.generate_key()\n",
    "    with open(filename_key, 'wb') as key_file:\n",
    "        key_file.write(key)\n",
    "    print(f\"Clé générée et sauvegardée dans {filename_key}\")\n",
    "\n",
    "generate_key_and_save(\"ma_cle.key\")\n"
   ]
  },
  {
   "cell_type": "code",
   "execution_count": null,
   "metadata": {},
   "outputs": [],
   "source": []
  },
  {
   "cell_type": "markdown",
   "metadata": {},
   "source": [
    "## cryptage"
   ]
  },
  {
   "cell_type": "markdown",
   "metadata": {},
   "source": [
    "#### exemple"
   ]
  },
  {
   "cell_type": "code",
   "execution_count": 62,
   "metadata": {},
   "outputs": [
    {
     "name": "stdout",
     "output_type": "stream",
     "text": [
      "b'3h5pVaD_mnfE38UF3VgMyJN54Ok6_Yhrjkgi3HtKGNI='\n"
     ]
    },
    {
     "data": {
      "text/plain": [
       "b'my deep dark secret'"
      ]
     },
     "execution_count": 62,
     "metadata": {},
     "output_type": "execute_result"
    }
   ],
   "source": [
    "from cryptography.fernet import Fernet\n",
    "\n",
    "key = Fernet.generate_key()\n",
    "print(key)\n",
    "\n",
    "f = Fernet(key)\n",
    "\n",
    "token = f.encrypt(b\"my deep dark secret\")\n",
    "\n",
    "token\n",
    "b'...'\n",
    "\n",
    "f.decrypt(token)\n",
    "b'my deep dark secret'"
   ]
  },
  {
   "cell_type": "markdown",
   "metadata": {},
   "source": [
    "#### mon code"
   ]
  },
  {
   "cell_type": "code",
   "execution_count": null,
   "metadata": {},
   "outputs": [],
   "source": []
  },
  {
   "cell_type": "code",
   "execution_count": null,
   "metadata": {},
   "outputs": [],
   "source": []
  },
  {
   "cell_type": "code",
   "execution_count": null,
   "metadata": {},
   "outputs": [],
   "source": []
  },
  {
   "cell_type": "code",
   "execution_count": null,
   "metadata": {},
   "outputs": [],
   "source": []
  },
  {
   "cell_type": "code",
   "execution_count": null,
   "metadata": {},
   "outputs": [],
   "source": []
  },
  {
   "cell_type": "code",
   "execution_count": null,
   "metadata": {},
   "outputs": [],
   "source": []
  },
  {
   "cell_type": "code",
   "execution_count": null,
   "metadata": {},
   "outputs": [],
   "source": []
  },
  {
   "cell_type": "code",
   "execution_count": null,
   "metadata": {},
   "outputs": [],
   "source": []
  },
  {
   "cell_type": "code",
   "execution_count": 63,
   "metadata": {},
   "outputs": [],
   "source": [
    "from cryptography.fernet import Fernet\n",
    "\n",
    "def create_key():\n",
    "    key = Fernet.generate_key()\n",
    "    with open(\"ma_cle.key\", \"wb\") as key_file:\n",
    "        key_file.write(key)\n",
    "\n",
    "def load_key():\n",
    "    return open(\"ma_cle.key\", \"rb\").read()\n",
    "\n",
    "\n",
    "Final_execution=False   \n",
    "def char_to_3_list(char):\n",
    "    list=[]\n",
    "    list.append(char[0:len(char)//3])\n",
    "    list.append(char[len(char)//3:2*len(char)//3])\n",
    "    list.append(char[2*len(char)//3:len(char)])\n",
    "   \n",
    "    if Final_execution==False:\n",
    "        return list\n",
    "    if Final_execution==True:\n",
    "        global NB_choisi_pour_clone\n",
    "        NB_choisi_pour_clone=3\n",
    "        return list\n",
    "\n",
    "\n",
    "\n",
    "def encrypt_file(file_name):\n",
    "    key = load_key()\n",
    "    fernet = Fernet(key)\n",
    "    with open(file_name, \"rb\") as file:\n",
    "        file_data = file.read()\n",
    "    encrypted_data = fernet.encrypt(file_data)\n",
    "    with open(file_name[:-4]+str(\"_encrypted.txt\"), \"wb\") as file:\n",
    "        file.write(encrypted_data)\n",
    "        \n",
    "        \n",
    "def decrypt_file(file_name):\n",
    "    key = load_key()\n",
    "    fernet = Fernet(key)\n",
    "    with open(file_name, \"rb\") as file:\n",
    "        encrypted_data = file.read()\n",
    "    decrypted_data = fernet.decrypt(encrypted_data)\n",
    "    with open(file_name[:-4]+str(\"_decrypted.txt\"), \"wb\") as file:\n",
    "        file.write(decrypted_data)\n",
    "\n",
    "def decrypt_file_with_splited3_key(file_name,key1,key2,key3):\n",
    "    key = key1+key2+key3\n",
    "    fernet = Fernet(key)\n",
    "    with open(file_name, \"rb\") as file:\n",
    "        encrypted_data = file.read()\n",
    "    decrypted_data = fernet.decrypt(encrypted_data)\n",
    "    with open(file_name[:-4]+str(\"_decrypted.txt\"), \"wb\") as file:\n",
    "        file.write(decrypted_data)\n",
    "\n"
   ]
  },
  {
   "cell_type": "code",
   "execution_count": 64,
   "metadata": {},
   "outputs": [],
   "source": [
    "key_list=char_to_3_list(load_key())"
   ]
  },
  {
   "cell_type": "code",
   "execution_count": 65,
   "metadata": {},
   "outputs": [
    {
     "data": {
      "text/plain": [
       "True"
      ]
     },
     "execution_count": 65,
     "metadata": {},
     "output_type": "execute_result"
    }
   ],
   "source": [
    "key=load_key()\n",
    "key==key_list[0]+key_list[1]+key_list[2]"
   ]
  },
  {
   "cell_type": "code",
   "execution_count": 66,
   "metadata": {},
   "outputs": [
    {
     "data": {
      "text/plain": [
       "56"
      ]
     },
     "execution_count": 66,
     "metadata": {},
     "output_type": "execute_result"
    }
   ],
   "source": [
    "key=load_key()\n",
    "key[1]"
   ]
  },
  {
   "cell_type": "code",
   "execution_count": 67,
   "metadata": {},
   "outputs": [
    {
     "data": {
      "text/plain": [
       "b'l8XGs-6jFysi4Y1r1Zb2HRpN-ypm6xHHIXFSMZXE0tQ='"
      ]
     },
     "execution_count": 67,
     "metadata": {},
     "output_type": "execute_result"
    }
   ],
   "source": [
    "key"
   ]
  },
  {
   "cell_type": "code",
   "execution_count": null,
   "metadata": {},
   "outputs": [],
   "source": []
  },
  {
   "cell_type": "code",
   "execution_count": 68,
   "metadata": {},
   "outputs": [
    {
     "data": {
      "text/plain": [
       "<cryptography.fernet.Fernet at 0x235f3d50d30>"
      ]
     },
     "execution_count": 68,
     "metadata": {},
     "output_type": "execute_result"
    }
   ],
   "source": [
    "f = Fernet(load_key())\n",
    "f"
   ]
  },
  {
   "cell_type": "code",
   "execution_count": 69,
   "metadata": {},
   "outputs": [
    {
     "data": {
      "text/plain": [
       "b'gAAAAABnwn5EiXDS0iOHpzuWbozG-kSCLoAPVC8seoouoVxUx1Nki6uiQGU0eg6bmTuO-Bmi3P6NbI23mU-MNHH2DOBawoSmKw=='"
      ]
     },
     "execution_count": 69,
     "metadata": {},
     "output_type": "execute_result"
    }
   ],
   "source": [
    "k=f.encrypt(b\"Bonjour\")\n",
    "k"
   ]
  },
  {
   "cell_type": "code",
   "execution_count": 70,
   "metadata": {},
   "outputs": [
    {
     "data": {
      "text/plain": [
       "b'Bonjour'"
      ]
     },
     "execution_count": 70,
     "metadata": {},
     "output_type": "execute_result"
    }
   ],
   "source": [
    "f.decrypt(k)"
   ]
  },
  {
   "cell_type": "code",
   "execution_count": null,
   "metadata": {},
   "outputs": [],
   "source": []
  },
  {
   "cell_type": "code",
   "execution_count": null,
   "metadata": {},
   "outputs": [],
   "source": []
  },
  {
   "cell_type": "code",
   "execution_count": null,
   "metadata": {},
   "outputs": [],
   "source": []
  },
  {
   "cell_type": "markdown",
   "metadata": {},
   "source": [
    "## recuperation des emails"
   ]
  },
  {
   "cell_type": "code",
   "execution_count": 71,
   "metadata": {},
   "outputs": [],
   "source": [
    "def all_elements_unique(lst):\n",
    "    if not len(lst) == len(set(lst)):\n",
    "        raise ValueError(\"The email addresses are not unique.\")\n",
    "\n",
    "\n",
    "    \n",
    "\n",
    "# Example usage\n",
    "example_list = [1, 2, 3, 4, 5]\n",
    "all_elements_unique(example_list)  # Output: True\n",
    "\n",
    "example_list = [1, 2, 2, 4, 5]\n",
    "#all_elements_unique(example_list)  # Output: False"
   ]
  },
  {
   "cell_type": "code",
   "execution_count": 72,
   "metadata": {},
   "outputs": [],
   "source": [
    "import pandas as pd\n",
    "my_csv_file_name = \"Formulaire sans titre (réponses) - Réponses au formulaire 1.csv\"\n",
    "# Read the CSV file\n",
    "df = pd.read_csv(my_csv_file_name)\n",
    "\n",
    "# Convert the dataframe to a list of lists\n",
    "data_list = df.values.tolist()\n",
    "dicto_nom_email = {}\n",
    "\n",
    "\n",
    "def get_email_list(data_list):\n",
    "    email_list = []\n",
    "    for i in range(len(data_list)):\n",
    "        email_list.append(data_list[i][3])\n",
    "        dicto_nom_email[data_list[i][3]] = data_list[i][1]\n",
    "    all_elements_unique(email_list)\n",
    "    return email_list\n",
    "\n",
    "email_list=get_email_list(data_list)"
   ]
  },
  {
   "cell_type": "code",
   "execution_count": null,
   "metadata": {},
   "outputs": [],
   "source": [
    "\n"
   ]
  },
  {
   "cell_type": "markdown",
   "metadata": {},
   "source": [
    "## execution du programme"
   ]
  },
  {
   "cell_type": "code",
   "execution_count": 73,
   "metadata": {},
   "outputs": [
    {
     "ename": "SyntaxError",
     "evalue": "expected ':' (768880974.py, line 1)",
     "output_type": "error",
     "traceback": [
      "\u001b[1;36m  Cell \u001b[1;32mIn[73], line 1\u001b[1;36m\u001b[0m\n\u001b[1;33m    def stoop(email)\u001b[0m\n\u001b[1;37m                    ^\u001b[0m\n\u001b[1;31mSyntaxError\u001b[0m\u001b[1;31m:\u001b[0m expected ':'\n"
     ]
    }
   ],
   "source": [
    "def stoop(email)\n",
    "    ff"
   ]
  },
  {
   "cell_type": "code",
   "execution_count": 79,
   "metadata": {},
   "outputs": [],
   "source": [
    "import random\n",
    "import os\n",
    "import tqdm\n",
    "\n",
    "NB_choisi_pour_clé = 3\n",
    "NB_choisi_pour_clone=1\n",
    "\n",
    "\n"
   ]
  },
  {
   "cell_type": "code",
   "execution_count": 75,
   "metadata": {},
   "outputs": [
    {
     "data": {
      "text/plain": [
       "['clone.pushover928@passmail.net',\n",
       " 'Dimitry.deruaz@gmail.com',\n",
       " 'drinimarchese@gmail.com',\n",
       " 'giangifolino@gmail.com']"
      ]
     },
     "execution_count": 75,
     "metadata": {},
     "output_type": "execute_result"
    }
   ],
   "source": [
    "email_list=get_email_list(data_list)\n",
    "\n",
    "the_chosen=random.sample(email_list,NB_choisi_pour_clé+NB_choisi_pour_clone)\n",
    "the_chosen"
   ]
  },
  {
   "cell_type": "code",
   "execution_count": 76,
   "metadata": {},
   "outputs": [],
   "source": [
    "file_path = r\"C:\\Users\\Axel\\OneDrive - unige.ch\\0moi\\0\\emplacement.txt\"\n",
    "\n",
    "with open(file_path, 'r') as file:\n",
    "    rows = file.readlines()\n",
    "\n",
    "# Remove any trailing newline characters\n",
    "placements = [row.strip() for row in rows]\n",
    "\n"
   ]
  },
  {
   "cell_type": "code",
   "execution_count": null,
   "metadata": {},
   "outputs": [
    {
     "name": "stdout",
     "output_type": "stream",
     "text": [
      "debut de l'excution du programe : Final_execution set sur True\n",
      "creation de la clé\n",
      "clé créée\n",
      "chargement de la clé\n",
      "découpage de la clé effectué avec succès\n",
      "chargement des emails\n",
      "emails chargés\n",
      "tirage au sort\n",
      "tirage au sort effectué\n",
      "envoie des emails\n"
     ]
    },
    {
     "name": "stderr",
     "output_type": "stream",
     "text": [
      "100%|██████████| 12/12 [00:00<?, ?it/s]"
     ]
    },
    {
     "name": "stdout",
     "output_type": "stream",
     "text": [
      "clone: bast.lacave@gmail.com\n",
      "        Bonjour Bastien ,\n",
      "\n",
      "        J'espère que vous allez bien. Je suis heureux de vous anoncer que vous AVEZ  été sélectionné pour Cloner votre chibre.\n",
      "\n",
      "        Nous nous rejouissons de jouer avec :)\n",
      "\n",
      "        en attendant il faut que vous ayez le chercher dans un delais de UNE SEMAINE a l'adresse suivante : \n",
      "\n",
      "            -premier emplacement\n",
      "\n",
      "         si le packet n'est pas recuperer d'ici là, votre identité sera revelé a tous les participants.\n",
      "         idem dans le cas ou vous ne rendez pas le clone dans les temps.\n",
      "\n",
      "\n",
      "        \n",
      "\n",
      "\n",
      "\n",
      "        Bien cordialement et bon courage,\n",
      "\n",
      "        L'Organisation du Projet Qbit\n",
      "\n",
      "        P.S. Si vous avez besoin d'aide pour le moulage: fgirl.ch\n",
      "\n",
      "        \n",
      "clone: axel1254@gmail.com\n",
      "        Bonjour axel,\n",
      "\n",
      "        J'espère que vous allez bien. Je suis heureux de vous anoncer que vous AVEZ  été sélectionné pour Cloner votre chibre.\n",
      "\n",
      "        Nous nous rejouissons de jouer avec :)\n",
      "\n",
      "        en attendant il faut que vous ayez le chercher dans un delais de UNE SEMAINE a l'adresse suivante : \n",
      "\n",
      "            -second emplacement\n",
      "\n",
      "         si le packet n'est pas recuperer d'ici là, votre identité sera revelé a tous les participants.\n",
      "         idem dans le cas ou vous ne rendez pas le clone dans les temps.\n",
      "\n",
      "\n",
      "        \n",
      "\n",
      "\n",
      "\n",
      "        Bien cordialement et bon courage,\n",
      "\n",
      "        L'Organisation du Projet Qbit\n",
      "\n",
      "        P.S. Si vous avez besoin d'aide pour le moulage: fgirl.ch\n",
      "\n",
      "        \n",
      "normal: mail@ferrer.re\n",
      "        Bonjour Sebastian,\n",
      "\n",
      "        J'espère que vous allez bien. Je suis désolé de vous anoncer que vous n'avez pas été sélectionné pour Cloner votre chibre. \n",
      "        ni pour être detenteur d'une partie de la clé.\n",
      "\n",
      "\n",
      "\n",
      "        Bien cordialement,\n",
      "\n",
      "        L'Organisation du Projet Qbit\n",
      "\n",
      "        \n",
      "normal: kenji@tanaka.ninja\n",
      "        Bonjour Kenji,\n",
      "\n",
      "        J'espère que vous allez bien. Je suis désolé de vous anoncer que vous n'avez pas été sélectionné pour Cloner votre chibre. \n",
      "        ni pour être detenteur d'une partie de la clé.\n",
      "\n",
      "\n",
      "\n",
      "        Bien cordialement,\n",
      "\n",
      "        L'Organisation du Projet Qbit\n",
      "\n",
      "        \n",
      "normal: giangifolino@gmail.com\n",
      "        Bonjour Gianluca,\n",
      "\n",
      "        J'espère que vous allez bien. Je suis désolé de vous anoncer que vous n'avez pas été sélectionné pour Cloner votre chibre. \n",
      "        ni pour être detenteur d'une partie de la clé.\n",
      "\n",
      "\n",
      "\n",
      "        Bien cordialement,\n",
      "\n",
      "        L'Organisation du Projet Qbit\n",
      "\n",
      "        \n",
      "normal: grosse_teub@hboutin.ch\n",
      "        Bonjour hugo,\n",
      "\n",
      "        J'espère que vous allez bien. Je suis désolé de vous anoncer que vous n'avez pas été sélectionné pour Cloner votre chibre. \n",
      "        ni pour être detenteur d'une partie de la clé.\n",
      "\n",
      "\n",
      "\n",
      "        Bien cordialement,\n",
      "\n",
      "        L'Organisation du Projet Qbit\n",
      "\n",
      "        \n",
      "clone: Cecemarques@icloud.com\n",
      "        Bonjour Cédric ,\n",
      "\n",
      "        J'espère que vous allez bien. Je suis heureux de vous anoncer que vous AVEZ  été sélectionné pour Cloner votre chibre.\n",
      "\n",
      "        Nous nous rejouissons de jouer avec :)\n",
      "\n",
      "        en attendant il faut que vous ayez le chercher dans un delais de UNE SEMAINE a l'adresse suivante : \n",
      "\n",
      "            -troiseieme emplacement\n",
      "\n",
      "         si le packet n'est pas recuperer d'ici là, votre identité sera revelé a tous les participants.\n",
      "         idem dans le cas ou vous ne rendez pas le clone dans les temps.\n",
      "\n",
      "\n",
      "        \n",
      "\n",
      "\n",
      "\n",
      "        Bien cordialement et bon courage,\n",
      "\n",
      "        L'Organisation du Projet Qbit\n",
      "\n",
      "        P.S. Si vous avez besoin d'aide pour le moulage: fgirl.ch\n",
      "\n",
      "        \n",
      "clé: clone.pushover928@passmail.net\n",
      "        Bonjour Stefano,\n",
      "\n",
      "        J'espère que vous allez bien. Je suis désolé de vous anoncer que vous n'avez pas été sélectionné pour Cloner votre chibre. \n",
      "        MAIS pour être detenteur d'une partie de la clé.\n",
      "\n",
      "             Vous posédé la partie numero 1 de la clé.votre clé est : b'luH9tZeVNKyM2Y'\n",
      "\n",
      "        celle si devra être gardé en sécurité et n'être revelé que si apres une semaine, le clone n'as pas été recuperé. ou si le clone n'as pas été utilisé rendu dans les temps.\n",
      "\n",
      "\n",
      "\n",
      "        Bien cordialement,\n",
      "\n",
      "        L'Organisation du Projet Qbit\n",
      "\n",
      "        \n",
      "normal: thomas.moreau.ts@gmail.com\n",
      "        Bonjour thomas,\n",
      "\n",
      "        J'espère que vous allez bien. Je suis désolé de vous anoncer que vous n'avez pas été sélectionné pour Cloner votre chibre. \n",
      "        ni pour être detenteur d'une partie de la clé.\n",
      "\n",
      "\n",
      "\n",
      "        Bien cordialement,\n",
      "\n",
      "        L'Organisation du Projet Qbit\n",
      "\n",
      "        \n",
      "clé: Dimitry.deruaz@gmail.com\n",
      "        Bonjour Dimitry ,\n",
      "\n",
      "        J'espère que vous allez bien. Je suis désolé de vous anoncer que vous n'avez pas été sélectionné pour Cloner votre chibre. \n",
      "        MAIS pour être detenteur d'une partie de la clé.\n",
      "\n",
      "             Vous posédé la partie numero 2 de la clé.votre clé est : b'lhErHBCkNUL-NSu'\n",
      "\n",
      "        celle si devra être gardé en sécurité et n'être revelé que si apres une semaine, le clone n'as pas été recuperé. ou si le clone n'as pas été utilisé rendu dans les temps.\n",
      "\n",
      "\n",
      "\n",
      "        Bien cordialement,\n",
      "\n",
      "        L'Organisation du Projet Qbit\n",
      "\n",
      "        \n",
      "clé: aurelien.balzli@gmail.com\n",
      "        Bonjour Aurélien,\n",
      "\n",
      "        J'espère que vous allez bien. Je suis désolé de vous anoncer que vous n'avez pas été sélectionné pour Cloner votre chibre. \n",
      "        MAIS pour être detenteur d'une partie de la clé.\n",
      "\n",
      "             Vous posédé la partie numero 3 de la clé.votre clé est : b'-KGxZ4hrzBCAk0='\n",
      "\n",
      "        celle si devra être gardé en sécurité et n'être revelé que si apres une semaine, le clone n'as pas été recuperé. ou si le clone n'as pas été utilisé rendu dans les temps.\n",
      "\n",
      "\n",
      "\n",
      "        Bien cordialement,\n",
      "\n",
      "        L'Organisation du Projet Qbit\n",
      "\n",
      "        \n",
      "normal: drinimarchese@gmail.com\n",
      "        Bonjour Drini,\n",
      "\n",
      "        J'espère que vous allez bien. Je suis désolé de vous anoncer que vous n'avez pas été sélectionné pour Cloner votre chibre. \n",
      "        ni pour être detenteur d'une partie de la clé.\n",
      "\n",
      "\n",
      "\n",
      "        Bien cordialement,\n",
      "\n",
      "        L'Organisation du Projet Qbit\n",
      "\n",
      "        \n",
      "Data written to winners.txt\n",
      "fichiers supprimés\n",
      "fin de l'excution du programe\n"
     ]
    },
    {
     "name": "stderr",
     "output_type": "stream",
     "text": [
      "\n"
     ]
    }
   ],
   "source": [
    "### A ACTIVé QUE SI TU SAIS CE QUE TU FAIS\n",
    "Final_execution=False # doit être mis a True pour envoyer les emails et SUPPRIMER LE FICHIER CONTENANT LA CLE\n",
    "send=False # doit être mis a True pour envoyer les emails\n",
    "###\n",
    "\n",
    "t=0\n",
    "ieme_key=0\n",
    "ieme_place=0\n",
    "\n",
    "\n",
    "\n",
    "####################################################################################################\n",
    "print(\"debut de l'excution du programe : Final_execution set sur \"+str(Final_execution))\n",
    "\n",
    "if Final_execution==False:\n",
    "    print(\"ATTENTION: Final_execution est sur True, le fichier contenant la clé va être supprimé\")\n",
    "\n",
    "print(\"creation de la clé\")\n",
    "create_key()\n",
    "print(\"clé créée\")\n",
    "print(\"chargement de la clé\")\n",
    "key=load_key()\n",
    "key_list=char_to_3_list(load_key()) # on divise la clé en 3 pour la sécurité\n",
    "\n",
    "if key==key_list[0]+key_list[1]+key_list[2]:\n",
    "    print(\"découpage de la clé effectué avec succès\")\n",
    "else:\n",
    "    raise ValueError(\"Erreur lors du découpage de la clé\")\n",
    "\n",
    "\n",
    "\n",
    "print(\"chargement des emails\")\n",
    "email_list=get_email_list(data_list)\n",
    "print(\"emails chargés\")\n",
    "print(\"tirage au sort\")\n",
    "\n",
    "the_chosen=random.sample(email_list,NB_choisi_pour_clé+NB_choisi_pour_clone)\n",
    "\n",
    "print(\"tirage au sort effectué\")\n",
    "print(\"envoie des emails\")\n",
    "winners=[] \n",
    "\n",
    "for email_adresse in tqdm.tqdm(email_list):\n",
    "    nom=dicto_nom_email[email_adresse]\n",
    "\n",
    "    if email_adresse in the_chosen:\n",
    "        if t<NB_choisi_pour_clone:\n",
    "            #envoie email clone\n",
    "            \n",
    "            if send==True:\n",
    "                envoie_email(email_adresse,sujet, corps(nom,\"clone\"))\n",
    "            else:\n",
    "                print(\"clone: \"+str(email_adresse))\n",
    "                print(corps(nom,\"clone\"))\n",
    "            t=t+1\n",
    "            ieme_place=ieme_place+1\n",
    "            winners.append([nom,email_adresse])\n",
    "            \n",
    "        else:\n",
    "            #envoie email clé\n",
    "            if send==True:\n",
    "                envoie_email(email_adresse,sujet, corps(nom,\"clé\"))\n",
    "            else:\n",
    "                print(\"clé: \"+str(email_adresse))\n",
    "                print(corps(nom,\"clé\"))\n",
    "            ieme_key=ieme_key+1\n",
    "    else:\n",
    "        #envoie email normal\n",
    "        if send==True:\n",
    "            envoie_email(email_adresse,sujet, corps(nom,\"normal\"))\n",
    "        else:\n",
    "            print(\"normal: \"+str(email_adresse))\n",
    "            print(corps(nom,\"normal\"))\n",
    "\n",
    "# Define the file path\n",
    "output_file_path = \"winners.txt\"\n",
    "\n",
    "# Open the file in write mode\n",
    "with open(output_file_path, 'w') as file:\n",
    "    # Write the names and email addresses to the file\n",
    "    for i in range(NB_choisi_pour_clone):\n",
    "  \n",
    "        file.write(f\"{winners[i][0]},{winners[i][1]}\\n\")\n",
    "\n",
    "print(f\"Data written to {output_file_path}\")\n",
    "\n",
    "encrypt_file(output_file_path)\n",
    "\n",
    "if Final_execution==True:\n",
    "    os.remove(\"ma_cle.key\")\n",
    "    os.remove(output_file_path)\n",
    "    print(\"fichiers supprimés\")\n",
    "\n",
    "print(\"fin de l'excution du programe\")\n"
   ]
  },
  {
   "cell_type": "code",
   "execution_count": null,
   "metadata": {},
   "outputs": [],
   "source": [
    "\n"
   ]
  },
  {
   "cell_type": "code",
   "execution_count": null,
   "metadata": {},
   "outputs": [],
   "source": []
  },
  {
   "cell_type": "code",
   "execution_count": null,
   "metadata": {},
   "outputs": [],
   "source": []
  },
  {
   "cell_type": "code",
   "execution_count": null,
   "metadata": {},
   "outputs": [],
   "source": []
  },
  {
   "cell_type": "code",
   "execution_count": null,
   "metadata": {},
   "outputs": [],
   "source": []
  },
  {
   "cell_type": "code",
   "execution_count": null,
   "metadata": {},
   "outputs": [],
   "source": []
  }
 ],
 "metadata": {
  "kernelspec": {
   "display_name": "Python 3",
   "language": "python",
   "name": "python3"
  },
  "language_info": {
   "codemirror_mode": {
    "name": "ipython",
    "version": 3
   },
   "file_extension": ".py",
   "mimetype": "text/x-python",
   "name": "python",
   "nbconvert_exporter": "python",
   "pygments_lexer": "ipython3",
   "version": "3.10.10"
  }
 },
 "nbformat": 4,
 "nbformat_minor": 2
}
